{
 "cells": [
  {
   "cell_type": "markdown",
   "id": "c046985a",
   "metadata": {},
   "source": [
    "# Developing Machine Learning Models for Fall Risk Prediction with Openpose: Utilizing Video Recordings of Gaits\n",
    "\n"
   ]
  },
  {
   "cell_type": "markdown",
   "id": "a2079898",
   "metadata": {},
   "source": [
    "# OpenPose Extracting 2D Pose From Low Fall Risk Group Videos Gaits"
   ]
  },
  {
   "cell_type": "markdown",
   "id": "5962f4fc",
   "metadata": {},
   "source": [
    "The given PowerShell instructions are used to call an instance of the OpenPose library for the purpose of executing a demonstration that involves analysing a set of video recordings within the framework of a research project. The use of OpenPose, a software framework known for its ability to discover key points in real-time for several individuals, is applied to analyse and extract valuable information from the video stream.\n",
    "*Note: The code below will only run on command prompt after the installation of OpenPose Demo.*"
   ]
  },
  {
   "cell_type": "code",
   "execution_count": null,
   "id": "92d4d387",
   "metadata": {},
   "outputs": [],
   "source": [
    "Windows PowerShell\n",
    "Copyright (C) Microsoft Corporation. All rights reserved.\n",
    "\n",
    "Install the latest PowerShell for new features and improvements! https://aka.ms/PSWindows\n",
    "\n",
    "PS C:\\Users\\Computing> cd \"C:\\Users\\Computing\\OneDrive - University of Lincoln\\Desktop\\openpose\"\n",
    "PS C:\\Users\\Computing\\OneDrive - University of Lincoln\\Desktop\\openpose> bin\\OpenPoseDemo.exe --video videos/lowfallriskgroup/patient_1.MP4 --write_json output_jsons/ --write_images output_images/\n",
    "Starting OpenPose demo...\n",
    "Configuring OpenPose...\n",
    "Starting thread(s)...\n",
    "Auto-detecting all available GPUs... Detected 1 GPU(s), using 1 of them starting at GPU 0.\n",
    "OpenPose demo successfully finished. Total time: 67.046018 seconds.\n",
    "PS C:\\Users\\Computing\\OneDrive - University of Lincoln\\Desktop\\openpose> bin\\OpenPoseDemo.exe --video videos/lowfallriskgroup/patient_2.MP4 --write_json output_jsons2/ --write_images output_images2/\n",
    "Starting OpenPose demo...\n",
    "Configuring OpenPose...\n",
    "Starting thread(s)...\n",
    "Auto-detecting all available GPUs... Detected 1 GPU(s), using 1 of them starting at GPU 0.\n",
    "OpenPose demo successfully finished. Total time: 68.455396 seconds.\n",
    "PS C:\\Users\\Computing\\OneDrive - University of Lincoln\\Desktop\\openpose> bin\\OpenPoseDemo.exe --video videos/lowfallriskgroup/patient_3.MP4 --write_json output_jsons3/ --write_images output_images3/\n",
    "Starting OpenPose demo...\n",
    "Configuring OpenPose...\n",
    "Starting thread(s)...\n",
    "Auto-detecting all available GPUs... Detected 1 GPU(s), using 1 of them starting at GPU 0.\n",
    "OpenPose demo successfully finished. Total time: 62.608305 seconds.\n",
    "PS C:\\Users\\Computing\\OneDrive - University of Lincoln\\Desktop\\openpose> bin\\OpenPoseDemo.exe --video videos/lowfallriskgroup/patient_4.MP4 --write_json output_jsons4/ --write_images output_images4/\n",
    "Starting OpenPose demo...\n",
    "Configuring OpenPose...\n",
    "Starting thread(s)...\n",
    "Auto-detecting all available GPUs... Detected 1 GPU(s), using 1 of them starting at GPU 0.\n",
    "OpenPose demo successfully finished. Total time: 131.493230 seconds.\n",
    "PS C:\\Users\\Computing\\OneDrive - University of Lincoln\\Desktop\\openpose> bin\\OpenPoseDemo.exe --video videos/lowfallriskgroup/patient_5.MP4 --write_json output_jsons5/ --write_images output_images5/\n",
    "Starting OpenPose demo...\n",
    "Configuring OpenPose...\n",
    "Starting thread(s)...\n",
    "Auto-detecting all available GPUs... Detected 1 GPU(s), using 1 of them starting at GPU 0.\n",
    "OpenPose demo successfully finished. Total time: 62.960832 seconds.\n",
    "PS C:\\Users\\Computing\\OneDrive - University of Lincoln\\Desktop\\openpose> bin\\OpenPoseDemo.exe --video videos/lowfallriskgroup/patient_6.MP4 --write_json output_jsons6/ --write_images output_images6/\n",
    "Starting OpenPose demo...\n",
    "Configuring OpenPose...\n",
    "Starting thread(s)...\n",
    "Auto-detecting all available GPUs... Detected 1 GPU(s), using 1 of them starting at GPU 0.\n",
    "OpenPose demo successfully finished. Total time: 65.349311 seconds.\n",
    "PS C:\\Users\\Computing\\OneDrive - University of Lincoln\\Desktop\\openpose> bin\\OpenPoseDemo.exe --video videos/lowfallriskgroup/patient_7.MP4 --write_json output_jsons7/ --write_images output_images7/\n",
    "Starting OpenPose demo...\n",
    "Configuring OpenPose...\n",
    "Starting thread(s)...\n",
    "Auto-detecting all available GPUs... Detected 1 GPU(s), using 1 of them starting at GPU 0.\n",
    "OpenPose demo successfully finished. Total time: 68.675629 seconds.\n",
    "PS C:\\Users\\Computing\\OneDrive - University of Lincoln\\Desktop\\openpose> bin\\OpenPoseDemo.exe --video videos/lowfallriskgroup/patient_8.MP4 --write_json output_jsons8/ --write_images output_images8/\n",
    "Starting OpenPose demo...\n",
    "Configuring OpenPose...\n",
    "Starting thread(s)...\n",
    "Auto-detecting all available GPUs... Detected 1 GPU(s), using 1 of them starting at GPU 0.\n",
    "OpenPose demo successfully finished. Total time: 166.892804 seconds.\n",
    "PS C:\\Users\\Computing\\OneDrive - University of Lincoln\\Desktop\\openpose> bin\\OpenPoseDemo.exe --video videos/lowfallriskgroup/patient_9.MP4 --write_json output_jsons9/ --write_images output_images9/\n",
    "Starting OpenPose demo...\n",
    "Configuring OpenPose...\n",
    "Starting thread(s)...\n",
    "Auto-detecting all available GPUs... Detected 1 GPU(s), using 1 of them starting at GPU 0.\n",
    "OpenPose demo successfully finished. Total time: 67.260681 seconds.\n",
    "PS C:\\Users\\Computing\\OneDrive - University of Lincoln\\Desktop\\openpose> bin\\OpenPoseDemo.exe --video videos/lowfallriskgroup/patient_10.MP4 --write_json output_jsons10/ --write_images output_images10/\n",
    "Starting OpenPose demo...\n",
    "Configuring OpenPose...\n",
    "Starting thread(s)...\n",
    "Auto-detecting all available GPUs... Detected 1 GPU(s), using 1 of them starting at GPU 0.\n",
    "OpenPose demo successfully finished. Total time: 65.785747 seconds.\n",
    "PS C:\\Users\\Computing\\OneDrive - University of Lincoln\\Desktop\\openpose> bin\\OpenPoseDemo.exe --video videos/lowfallriskgroup/patient_11.MP4 --write_json output_jsons11/ --write_images output_images11/\n",
    "Starting OpenPose demo...\n",
    "Configuring OpenPose...\n",
    "Starting thread(s)...\n",
    "Auto-detecting all available GPUs... Detected 1 GPU(s), using 1 of them starting at GPU 0.\n",
    "OpenPose demo successfully finished. Total time: 107.921120 seconds.\n",
    "PS C:\\Users\\Computing\\OneDrive - University of Lincoln\\Desktop\\openpose> bin\\OpenPoseDemo.exe --video videos/lowfallriskgroup/patient_12.MP4 --write_json output_jsons12/ --write_images output_images12/\n",
    "Starting OpenPose demo...\n",
    "Configuring OpenPose...\n",
    "Starting thread(s)...\n",
    "Auto-detecting all available GPUs... Detected 1 GPU(s), using 1 of them starting at GPU 0.\n",
    "OpenPose demo successfully finished. Total time: 106.135033 seconds.\n",
    "PS C:\\Users\\Computing\\OneDrive - University of Lincoln\\Desktop\\openpose> bin\\OpenPoseDemo.exe --video videos/lowfallriskgroup/patient_13.MP4 --write_json output_jsons13/ --write_images output_images13/\n",
    "Starting OpenPose demo...\n",
    "Configuring OpenPose...\n",
    "Starting thread(s)...\n",
    "Auto-detecting all available GPUs... Detected 1 GPU(s), using 1 of them starting at GPU 0.\n",
    "OpenPose demo successfully finished. Total time: 64.298957 seconds.\n",
    "PS C:\\Users\\Computing\\OneDrive - University of Lincoln\\Desktop\\openpose> bin\\OpenPoseDemo.exe --video videos/lowfallriskgroup/patient_14.MP4 --write_json output_jsons14/ --write_images output_images14/\n",
    "Starting OpenPose demo...\n",
    "Configuring OpenPose...\n",
    "Starting thread(s)...\n",
    "Auto-detecting all available GPUs... Detected 1 GPU(s), using 1 of them starting at GPU 0.\n",
    "OpenPose demo successfully finished. Total time: 63.651027 seconds.\n",
    "PS C:\\Users\\Computing\\OneDrive - University of Lincoln\\Desktop\\openpose> bin\\OpenPoseDemo.exe --video videos/lowfallriskgroup/patient_15.MP4 --write_json output_jsons15/ --write_images output_images15/\n",
    "Starting OpenPose demo...\n",
    "Configuring OpenPose...\n",
    "Starting thread(s)...\n",
    "Auto-detecting all available GPUs... Detected 1 GPU(s), using 1 of them starting at GPU 0.\n",
    "OpenPose demo successfully finished. Total time: 100.886992 seconds.\n",
    "PS C:\\Users\\Computing\\OneDrive - University of Lincoln\\Desktop\\openpose> bin\\OpenPoseDemo.exe --video videos/lowfallriskgroup/patient_16.MP4 --write_json output_jsons16/ --write_images output_images16/\n",
    "Starting OpenPose demo...\n",
    "Configuring OpenPose...\n",
    "Starting thread(s)...\n",
    "Auto-detecting all available GPUs... Detected 1 GPU(s), using 1 of them starting at GPU 0.\n",
    "OpenPose demo successfully finished. Total time: 123.489536 seconds.\n",
    "PS C:\\Users\\Computing\\OneDrive - University of Lincoln\\Desktop\\openpose> bin\\OpenPoseDemo.exe --video videos/lowfallriskgroup/patient_17.MP4 --write_json output_jsons17/ --write_images output_images17/\n",
    "Starting OpenPose demo...\n",
    "Configuring OpenPose...\n",
    "Starting thread(s)...\n",
    "Auto-detecting all available GPUs... Detected 1 GPU(s), using 1 of them starting at GPU 0.\n",
    "OpenPose demo successfully finished. Total time: 60.654908 seconds.\n",
    "PS C:\\Users\\Computing\\OneDrive - University of Lincoln\\Desktop\\openpose> bin\\OpenPoseDemo.exe --video videos/lowfallriskgroup/patient_18.MP4 --write_json output_jsons18/ --write_images output_images18/\n",
    "Starting OpenPose demo...\n",
    "Configuring OpenPose...\n",
    "Starting thread(s)...\n",
    "Auto-detecting all available GPUs... Detected 1 GPU(s), using 1 of them starting at GPU 0.\n",
    "OpenPose demo successfully finished. Total time: 63.815086 seconds.\n",
    "PS C:\\Users\\Computing\\OneDrive - University of Lincoln\\Desktop\\openpose> bin\\OpenPoseDemo.exe --video videos/lowfallriskgroup/patient_19.MP4 --write_json output_jsons19/ --write_images output_images19/\n",
    "Starting OpenPose demo...\n",
    "Configuring OpenPose...\n",
    "Starting thread(s)...\n",
    "Auto-detecting all available GPUs... Detected 1 GPU(s), using 1 of them starting at GPU 0.\n",
    "OpenPose demo successfully finished. Total time: 108.522511 seconds.\n",
    "PS C:\\Users\\Computing\\OneDrive - University of Lincoln\\Desktop\\openpose> bin\\OpenPoseDemo.exe --video videos/lowfallriskgroup/patient_20.MP4 --write_json output_jsons20/ --write_images output_images20/\n",
    "Starting OpenPose demo...\n",
    "Configuring OpenPose...\n",
    "Starting thread(s)...\n",
    "Auto-detecting all available GPUs... Detected 1 GPU(s), using 1 of them starting at GPU 0.\n",
    "OpenPose demo successfully finished. Total time: 105.715942 seconds.\n",
    "PS C:\\Users\\Computing\\OneDrive - University of Lincoln\\Desktop\\openpose> bin\\OpenPoseDemo.exe --video videos/lowfallriskgroup/patient_21.MP4 --write_json output_jsons21/ --write_images output_images21/\n",
    "Starting OpenPose demo...\n",
    "Configuring OpenPose...\n",
    "Starting thread(s)...\n",
    "Auto-detecting all available GPUs... Detected 1 GPU(s), using 1 of them starting at GPU 0.\n",
    "OpenPose demo successfully finished. Total time: 85.973998 seconds.\n",
    "PS C:\\Users\\Computing\\OneDrive - University of Lincoln\\Desktop\\openpose> bin\\OpenPoseDemo.exe --video videos/lowfallriskgroup/patient_22.MP4 --write_json output_jsons22/ --write_images output_images22/\n",
    "Starting OpenPose demo...\n",
    "Configuring OpenPose...\n",
    "Starting thread(s)...\n",
    "Auto-detecting all available GPUs... Detected 1 GPU(s), using 1 of them starting at GPU 0.\n",
    "OpenPose demo successfully finished. Total time: 76.161136 seconds.\n",
    "PS C:\\Users\\Computing\\OneDrive - University of Lincoln\\Desktop\\openpose> bin\\OpenPoseDemo.exe --video videos/lowfallriskgroup/patient_23.MP4 --write_json output_jsons23/ --write_images output_images23/\n",
    "Starting OpenPose demo...\n",
    "Configuring OpenPose...\n",
    "Starting thread(s)...\n",
    "Auto-detecting all available GPUs... Detected 1 GPU(s), using 1 of them starting at GPU 0.\n",
    "OpenPose demo successfully finished. Total time: 53.089629 seconds.\n",
    "PS C:\\Users\\Computing\\OneDrive - University of Lincoln\\Desktop\\openpose> bin\\OpenPoseDemo.exe --video videos/lowfallriskgroup/patient_24.MP4 --write_json output_jsons24/ --write_images output_images24/\n",
    "Starting OpenPose demo...\n",
    "Configuring OpenPose...\n",
    "Starting thread(s)...\n",
    "Auto-detecting all available GPUs... Detected 1 GPU(s), using 1 of them starting at GPU 0.\n",
    "OpenPose demo successfully finished. Total time: 63.506810 seconds.\n",
    "PS C:\\Users\\Computing\\OneDrive - University of Lincoln\\Desktop\\openpose> bin\\OpenPoseDemo.exe --video videos/lowfallriskgroup/patient_25.MP4 --write_json output_jsons25/ --write_images output_images25/\n",
    "Starting OpenPose demo...\n",
    "Configuring OpenPose...\n",
    "Starting thread(s)...\n",
    "Auto-detecting all available GPUs... Detected 1 GPU(s), using 1 of them starting at GPU 0.\n",
    "OpenPose demo successfully finished. Total time: 52.279487 seconds.\n",
    "PS C:\\Users\\Computing\\OneDrive - University of Lincoln\\Desktop\\openpose> bin\\OpenPoseDemo.exe --video videos/lowfallriskgroup/patient_26.MP4 --write_json output_jsons26/ --write_images output_images26/\n",
    "Starting OpenPose demo...\n",
    "Configuring OpenPose...\n",
    "Starting thread(s)...\n",
    "Auto-detecting all available GPUs... Detected 1 GPU(s), using 1 of them starting at GPU 0.\n",
    "OpenPose demo successfully finished. Total time: 68.981593 seconds.\n",
    "PS C:\\Users\\Computing\\OneDrive - University of Lincoln\\Desktop\\openpose> bin\\OpenPoseDemo.exe --video videos/lowfallriskgroup/patient_27.MP4 --write_json output_jsons27/ --write_images output_images27/\n",
    "Starting OpenPose demo...\n",
    "Configuring OpenPose...\n",
    "Starting thread(s)...\n",
    "Auto-detecting all available GPUs... Detected 1 GPU(s), using 1 of them starting at GPU 0.\n",
    "OpenPose demo successfully finished. Total time: 68.238742 seconds.\n",
    "PS C:\\Users\\Computing\\OneDrive - University of Lincoln\\Desktop\\openpose> bin\\OpenPoseDemo.exe --video videos/lowfallriskgroup/patient_28.MP4 --write_json output_jsons28/ --write_images output_images28/\n",
    "Starting OpenPose demo...\n",
    "Configuring OpenPose...\n",
    "Starting thread(s)...\n",
    "Auto-detecting all available GPUs... Detected 1 GPU(s), using 1 of them starting at GPU 0.\n",
    "OpenPose demo successfully finished. Total time: 78.513024 seconds.\n",
    "PS C:\\Users\\Computing\\OneDrive - University of Lincoln\\Desktop\\openpose> bin\\OpenPoseDemo.exe --video videos/lowfallriskgroup/patient_29.MP4 --write_json output_jsons29/ --write_images output_images29/\n",
    "Starting OpenPose demo...\n",
    "Configuring OpenPose...\n",
    "Starting thread(s)...\n",
    "Auto-detecting all available GPUs... Detected 1 GPU(s), using 1 of them starting at GPU 0.\n",
    "OpenPose demo successfully finished. Total time: 55.833368 seconds.\n",
    "PS C:\\Users\\Computing\\OneDrive - University of Lincoln\\Desktop\\openpose> bin\\OpenPoseDemo.exe --video videos/lowfallriskgroup/patient_30.MP4 --write_json output_jsons30/ --write_images output_images30/\n",
    "Starting OpenPose demo...\n",
    "Configuring OpenPose...\n",
    "Starting thread(s)...\n",
    "Auto-detecting all available GPUs... Detected 1 GPU(s), using 1 of them starting at GPU 0.\n",
    "OpenPose demo successfully finished. Total time: 57.708636 seconds.\n",
    "PS C:\\Users\\Computing\\OneDrive - University of Lincoln\\Desktop\\openpose> bin\\OpenPoseDemo.exe --video videos/lowfallriskgroup/patient_31.MP4 --write_json output_jsons31/ --write_images output_images31/\n",
    "Starting OpenPose demo...\n",
    "Configuring OpenPose...\n",
    "Starting thread(s)...\n",
    "Auto-detecting all available GPUs... Detected 1 GPU(s), using 1 of them starting at GPU 0.\n",
    "OpenPose demo successfully finished. Total time: 68.338813 seconds.\n",
    "PS C:\\Users\\Computing\\OneDrive - University of Lincoln\\Desktop\\openpose> bin\\OpenPoseDemo.exe --video videos/lowfallriskgroup/patient_32.MP4 --write_json output_jsons32/ --write_images output_images32/\n",
    "Starting OpenPose demo...\n",
    "Configuring OpenPose...\n",
    "Starting thread(s)...\n",
    "Auto-detecting all available GPUs... Detected 1 GPU(s), using 1 of them starting at GPU 0.\n",
    "OpenPose demo successfully finished. Total time: 64.981254 seconds.\n",
    "PS C:\\Users\\Computing\\OneDrive - University of Lincoln\\Desktop\\openpose> bin\\OpenPoseDemo.exe --video videos/lowfallriskgroup/patient_33.MP4 --write_json output_jsons33/ --write_images output_images33/\n",
    "Starting OpenPose demo...\n",
    "Configuring OpenPose...\n",
    "Starting thread(s)...\n",
    "Auto-detecting all available GPUs... Detected 1 GPU(s), using 1 of them starting at GPU 0.\n",
    "OpenPose demo successfully finished. Total time: 82.660458 seconds.\n",
    "PS C:\\Users\\Computing\\OneDrive - University of Lincoln\\Desktop\\openpose> bin\\OpenPoseDemo.exe --video videos/lowfallriskgroup/patient_34.MP4 --write_json output_jsons34/ --write_images output_images34/\n",
    "Starting OpenPose demo...\n",
    "Configuring OpenPose...\n",
    "Starting thread(s)...\n",
    "Auto-detecting all available GPUs... Detected 1 GPU(s), using 1 of them starting at GPU 0.\n",
    "OpenPose demo successfully finished. Total time: 91.613412 seconds.\n",
    "PS C:\\Users\\Computing\\OneDrive - University of Lincoln\\Desktop\\openpose> bin\\OpenPoseDemo.exe --video videos/lowfallriskgroup/patient_35.MP4 --write_json output_jsons35/ --write_images output_images35/\n",
    "Starting OpenPose demo...\n",
    "Configuring OpenPose...\n",
    "Starting thread(s)...\n",
    "Auto-detecting all available GPUs... Detected 1 GPU(s), using 1 of them starting at GPU 0.\n",
    "OpenPose demo successfully finished. Total time: 122.806963 seconds.\n",
    "PS C:\\Users\\Computing\\OneDrive - University of Lincoln\\Desktop\\openpose> bin\\OpenPoseDemo.exe --video videos/lowfallriskgroup/patient_36.MP4 --write_json output_jsons36/ --write_images output_images36/\n",
    "Starting OpenPose demo...\n",
    "Configuring OpenPose...\n",
    "Starting thread(s)...\n",
    "Auto-detecting all available GPUs... Detected 1 GPU(s), using 1 of them starting at GPU 0.\n",
    "OpenPose demo successfully finished. Total time: 76.024187 seconds.\n",
    "PS C:\\Users\\Computing\\OneDrive - University of Lincoln\\Desktop\\openpose> bin\\OpenPoseDemo.exe --video videos/lowfallriskgroup/patient_37.MP4 --write_json output_jsons37/ --write_images output_images37/\n",
    "Starting OpenPose demo...\n",
    "Configuring OpenPose...\n",
    "Starting thread(s)...\n",
    "Auto-detecting all available GPUs... Detected 1 GPU(s), using 1 of them starting at GPU 0.\n",
    "OpenPose demo successfully finished. Total time: 60.520957 seconds.\n",
    "PS C:\\Users\\Computing\\OneDrive - University of Lincoln\\Desktop\\openpose> bin\\OpenPoseDemo.exe --video videos/lowfallriskgroup/patient_38.MP4 --write_json output_jsons38/ --write_images output_images38/\n",
    "Starting OpenPose demo...\n",
    "Configuring OpenPose...\n",
    "Starting thread(s)...\n",
    "Auto-detecting all available GPUs... Detected 1 GPU(s), using 1 of them starting at GPU 0.\n",
    "OpenPose demo successfully finished. Total time: 55.145741 seconds.\n",
    "PS C:\\Users\\Computing\\OneDrive - University of Lincoln\\Desktop\\openpose> bin\\OpenPoseDemo.exe --video videos/lowfallriskgroup/patient_39.MP4 --write_json output_jsons39/ --write_images output_images39/\n",
    "Starting OpenPose demo...\n",
    "Configuring OpenPose...\n",
    "Starting thread(s)...\n",
    "Auto-detecting all available GPUs... Detected 1 GPU(s), using 1 of them starting at GPU 0.\n",
    "OpenPose demo successfully finished. Total time: 55.207654 seconds.\n",
    "PS C:\\Users\\Computing\\OneDrive - University of Lincoln\\Desktop\\openpose> bin\\OpenPoseDemo.exe --video videos/lowfallriskgroup/patient_40.MP4 --write_json output_jsons40/ --write_images output_images40/\n",
    "Starting OpenPose demo...\n",
    "Configuring OpenPose...\n",
    "Starting thread(s)...\n",
    "Auto-detecting all available GPUs... Detected 1 GPU(s), using 1 of them starting at GPU 0.\n",
    "OpenPose demo successfully finished. Total time: 100.156373 seconds.\n",
    "PS C:\\Users\\Computing\\OneDrive - University of Lincoln\\Desktop\\openpose> bin\\OpenPoseDemo.exe --video videos/lowfallriskgroup/patient_41.MP4 --write_json output_jsons41/ --write_images output_images41/\n",
    "Starting OpenPose demo...\n",
    "Configuring OpenPose...\n",
    "Starting thread(s)...\n",
    "Auto-detecting all available GPUs... Detected 1 GPU(s), using 1 of them starting at GPU 0.\n",
    "OpenPose demo successfully finished. Total time: 62.326401 seconds.\n",
    "PS C:\\Users\\Computing\\OneDrive - University of Lincoln\\Desktop\\openpose> bin\\OpenPoseDemo.exe --video videos/lowfallriskgroup/patient_42.MP4 --write_json output_jsons42/ --write_images output_images42/\n",
    "Starting OpenPose demo...\n",
    "Configuring OpenPose...\n",
    "Starting thread(s)...\n",
    "Auto-detecting all available GPUs... Detected 1 GPU(s), using 1 of them starting at GPU 0.\n",
    "OpenPose demo successfully finished. Total time: 64.689093 seconds.\n",
    "PS C:\\Users\\Computing\\OneDrive - University of Lincoln\\Desktop\\openpose> bin\\OpenPoseDemo.exe --video videos/lowfallriskgroup/patient_43.MP4 --write_json output_jsons43/ --write_images output_images43/\n",
    "Starting OpenPose demo...\n",
    "Configuring OpenPose...\n",
    "Starting thread(s)...\n",
    "Auto-detecting all available GPUs... Detected 1 GPU(s), using 1 of them starting at GPU 0.\n",
    "OpenPose demo successfully finished. Total time: 56.857799 seconds.\n",
    "PS C:\\Users\\Computing\\OneDrive - University of Lincoln\\Desktop\\openpose> bin\\OpenPoseDemo.exe --video videos/lowfallriskgroup/patient_44.MP4 --write_json output_jsons44/ --write_images output_images44/\n",
    "Starting OpenPose demo...\n",
    "Configuring OpenPose...\n",
    "Starting thread(s)...\n",
    "Auto-detecting all available GPUs... Detected 1 GPU(s), using 1 of them starting at GPU 0.\n",
    "OpenPose demo successfully finished. Total time: 88.421980 seconds.\n",
    "PS C:\\Users\\Computing\\OneDrive - University of Lincoln\\Desktop\\openpose> bin\\OpenPoseDemo.exe --video videos/lowfallriskgroup/patient_45.MP4 --write_json output_jsons45/ --write_images output_images45/\n",
    "Starting OpenPose demo...\n",
    "Configuring OpenPose...\n",
    "Starting thread(s)...\n",
    "Auto-detecting all available GPUs... Detected 1 GPU(s), using 1 of them starting at GPU 0.\n",
    "OpenPose demo successfully finished. Total time: 71.613240 seconds.\n",
    "PS C:\\Users\\Computing\\OneDrive - University of Lincoln\\Desktop\\openpose> bin\\OpenPoseDemo.exe --video videos/lowfallriskgroup/patient_46.MP4 --write_json output_jsons46/ --write_images output_images46/\n",
    "Starting OpenPose demo...\n",
    "Configuring OpenPose...\n",
    "Starting thread(s)...\n",
    "Auto-detecting all available GPUs... Detected 1 GPU(s), using 1 of them starting at GPU 0.\n",
    "OpenPose demo successfully finished. Total time: 70.673741 seconds.\n",
    "PS C:\\Users\\Computing\\OneDrive - University of Lincoln\\Desktop\\openpose> bin\\OpenPoseDemo.exe --video videos/lowfallriskgroup/patient_47.MP4 --write_json output_jsons47/ --write_images output_images47/\n",
    "Starting OpenPose demo...\n",
    "Configuring OpenPose...\n",
    "Starting thread(s)...\n",
    "Auto-detecting all available GPUs... Detected 1 GPU(s), using 1 of them starting at GPU 0.\n",
    "OpenPose demo successfully finished. Total time: 73.716360 seconds.\n",
    "PS C:\\Users\\Computing\\OneDrive - University of Lincoln\\Desktop\\openpose> bin\\OpenPoseDemo.exe --video videos/lowfallriskgroup/patient_48.MP4 --write_json output_jsons48/ --write_images output_images48/\n",
    "Starting OpenPose demo...\n",
    "Configuring OpenPose...\n",
    "Starting thread(s)...\n",
    "Auto-detecting all available GPUs... Detected 1 GPU(s), using 1 of them starting at GPU 0.\n",
    "OpenPose demo successfully finished. Total time: 56.380434 seconds.\n",
    "PS C:\\Users\\Computing\\OneDrive - University of Lincoln\\Desktop\\openpose> bin\\OpenPoseDemo.exe --video videos/lowfallriskgroup/patient_49.MP4 --write_json output_jsons49/ --write_images output_images49/\n",
    "Starting OpenPose demo...\n",
    "Configuring OpenPose...\n",
    "Starting thread(s)...\n",
    "Auto-detecting all available GPUs... Detected 1 GPU(s), using 1 of them starting at GPU 0.\n",
    "OpenPose demo successfully finished. Total time: 59.940943 seconds.\n",
    "PS C:\\Users\\Computing\\OneDrive - University of Lincoln\\Desktop\\openpose> bin\\OpenPoseDemo.exe --video videos/lowfallriskgroup/patient_50.MP4 --write_json output_jsons50/ --write_images output_images50/\n",
    "Starting OpenPose demo...\n",
    "Configuring OpenPose...\n",
    "Starting thread(s)...\n",
    "Auto-detecting all available GPUs... Detected 1 GPU(s), using 1 of them starting at GPU 0.\n",
    "OpenPose demo successfully finished. Total time: 72.894253 seconds.\n",
    "PS C:\\Users\\Computing\\OneDrive - University of Lincoln\\Desktop\\openpose> bin\\OpenPoseDemo.exe --video videos/lowfallriskgroup/patient_51.MP4 --write_json output_jsons51/ --write_images output_images51/\n",
    "Starting OpenPose demo...\n",
    "Configuring OpenPose...\n",
    "Starting thread(s)...\n",
    "Auto-detecting all available GPUs... Detected 1 GPU(s), using 1 of them starting at GPU 0.\n",
    "OpenPose demo successfully finished. Total time: 63.885421 seconds.\n",
    "PS C:\\Users\\Computing\\OneDrive - University of Lincoln\\Desktop\\openpose> bin\\OpenPoseDemo.exe --video videos/lowfallriskgroup/patient_52.MP4 --write_json output_jsons52/ --write_images output_images52/\n",
    "Starting OpenPose demo...\n",
    "Configuring OpenPose...\n",
    "Starting thread(s)...\n",
    "Auto-detecting all available GPUs... Detected 1 GPU(s), using 1 of them starting at GPU 0.\n",
    "OpenPose demo successfully finished. Total time: 60.143423 seconds.\n",
    "PS C:\\Users\\Computing\\OneDrive - University of Lincoln\\Desktop\\openpose> bin\\OpenPoseDemo.exe --video videos/lowfallriskgroup/patient_53.MP4 --write_json output_jsons53/ --write_images output_images53/\n",
    "Starting OpenPose demo...\n",
    "Configuring OpenPose...\n",
    "Starting thread(s)...\n",
    "Auto-detecting all available GPUs... Detected 1 GPU(s), using 1 of them starting at GPU 0.\n",
    "OpenPose demo successfully finished. Total time: 59.998326 seconds.\n",
    "PS C:\\Users\\Computing\\OneDrive - University of Lincoln\\Desktop\\openpose> bin\\OpenPoseDemo.exe --video videos/lowfallriskgroup/patient_54.MP4 --write_json output_jsons54/ --write_images output_images54/\n",
    "Starting OpenPose demo...\n",
    "Configuring OpenPose...\n",
    "Starting thread(s)...\n",
    "Auto-detecting all available GPUs... Detected 1 GPU(s), using 1 of them starting at GPU 0.\n",
    "OpenPose demo successfully finished. Total time: 54.241062 seconds.\n",
    "PS C:\\Users\\Computing\\OneDrive - University of Lincoln\\Desktop\\openpose> bin\\OpenPoseDemo.exe --video videos/lowfallriskgroup/patient_55.MP4 --write_json output_jsons55/ --write_images output_images55/\n",
    "Starting OpenPose demo...\n",
    "Configuring OpenPose...\n",
    "Starting thread(s)...\n",
    "Auto-detecting all available GPUs... Detected 1 GPU(s), using 1 of them starting at GPU 0.\n",
    "OpenPose demo successfully finished. Total time: 45.318046 seconds.\n",
    "PS C:\\Users\\Computing\\OneDrive - University of Lincoln\\Desktop\\openpose> bin\\OpenPoseDemo.exe --video videos/lowfallriskgroup/patient_56.MP4 --write_json output_jsons56/ --write_images output_images56/\n",
    "Starting OpenPose demo...\n",
    "Configuring OpenPose...\n",
    "Starting thread(s)...\n",
    "Auto-detecting all available GPUs... Detected 1 GPU(s), using 1 of them starting at GPU 0.\n",
    "OpenPose demo successfully finished. Total time: 68.132827 seconds.\n",
    "PS C:\\Users\\Computing\\OneDrive - University of Lincoln\\Desktop\\openpose> bin\\OpenPoseDemo.exe --video videos/lowfallriskgroup/patient_57.MP4 --write_json output_jsons57/ --write_images output_images57/\n",
    "Starting OpenPose demo...\n",
    "Configuring OpenPose...\n",
    "Starting thread(s)...\n",
    "Auto-detecting all available GPUs... Detected 1 GPU(s), using 1 of them starting at GPU 0.\n",
    "OpenPose demo successfully finished. Total time: 60.280048 seconds.\n",
    "PS C:\\Users\\Computing\\OneDrive - University of Lincoln\\Desktop\\openpose> bin\\OpenPoseDemo.exe --video videos/lowfallriskgroup/patient_58.MP4 --write_json output_jsons58/ --write_images output_images58/\n",
    "Starting OpenPose demo...\n",
    "Configuring OpenPose...\n",
    "Starting thread(s)...\n",
    "Auto-detecting all available GPUs... Detected 1 GPU(s), using 1 of them starting at GPU 0.\n",
    "OpenPose demo successfully finished. Total time: 57.523181 seconds.\n",
    "PS C:\\Users\\Computing\\OneDrive - University of Lincoln\\Desktop\\openpose> bin\\OpenPoseDemo.exe --video videos/lowfallriskgroup/patient_59.MP4 --write_json output_jsons59/ --write_images output_images59/\n",
    "Starting OpenPose demo...\n",
    "Configuring OpenPose...\n",
    "Starting thread(s)...\n",
    "Auto-detecting all available GPUs... Detected 1 GPU(s), using 1 of them starting at GPU 0.\n",
    "OpenPose demo successfully finished. Total time: 59.707664 seconds.\n",
    "PS C:\\Users\\Computing\\OneDrive - University of Lincoln\\Desktop\\openpose>\n"
   ]
  },
  {
   "cell_type": "markdown",
   "id": "2f4d46b3",
   "metadata": {},
   "source": [
    "# OpenPose Extracting 2D Pose From High Fall Risk Group Videos Gaits"
   ]
  },
  {
   "cell_type": "markdown",
   "id": "4ed7eb9e",
   "metadata": {},
   "source": [
    "The sequence of instructions presented demonstrates the methodical use of the OpenPose software framework in the Windows PowerShell environment for the purpose of analysing a collection of video recordings from a dataset referred to as \"highfallriskgroup.\" The main aim of this analytical investigation is to analyse and assess the intrinsic human postural dynamics and locomotion patterns seen in the recorded video recording of gaits. *Note: The code below will only run on command prompt after the installation of OpenPose Demo.*"
   ]
  },
  {
   "cell_type": "code",
   "execution_count": null,
   "id": "aa83749c",
   "metadata": {},
   "outputs": [],
   "source": [
    "Windows PowerShell\n",
    "Copyright (C) Microsoft Corporation. All rights reserved.\n",
    "\n",
    "Install the latest PowerShell for new features and improvements! https://aka.ms/PSWindows\n",
    "\n",
    "PS C:\\Users\\Computing> CD C:\\Users\\Computing\\Desktop\\openpose\n",
    "PS C:\\Users\\Computing\\Desktop\\openpose> bin\\OpenPoseDemo.exe --video videos/highfallriskgroup/patient_1.MP4 --write_json output_jsons/ --write_images output_images/\n",
    "Starting OpenPose demo...\n",
    "Configuring OpenPose...\n",
    "Starting thread(s)...\n",
    "Auto-detecting all available GPUs... Detected 1 GPU(s), using 1 of them starting at GPU 0.\n",
    "OpenPose demo successfully finished. Total time: 228.890484 seconds.\n",
    "PS C:\\Users\\Computing\\Desktop\\openpose> bin\\OpenPoseDemo.exe --video videos/highfallriskgroup/patient_2.MP4 --write_json output_jsons2/ --write_images output_images2/\n",
    "Starting OpenPose demo...\n",
    "Configuring OpenPose...\n",
    "Starting thread(s)...\n",
    "Auto-detecting all available GPUs... Detected 1 GPU(s), using 1 of them starting at GPU 0.\n",
    "OpenPose demo successfully finished. Total time: 225.253431 seconds.\n",
    "PS C:\\Users\\Computing\\Desktop\\openpose> bin\\OpenPoseDemo.exe --video videos/highfallriskgroup/patient_3.MP4 --write_json output_jsons3/ --write_images output_images3/\n",
    "Starting OpenPose demo...\n",
    "Configuring OpenPose...\n",
    "Starting thread(s)...\n",
    "Auto-detecting all available GPUs... Detected 1 GPU(s), using 1 of them starting at GPU 0.\n",
    "OpenPose demo successfully finished. Total time: 224.581335 seconds.\n",
    "PS C:\\Users\\Computing\\Desktop\\openpose> bin\\OpenPoseDemo.exe --video videos/highfallriskgroup/patient_4.MP4 --write_json output_jsons4/ --write_images output_images4/\n",
    "Starting OpenPose demo...\n",
    "Configuring OpenPose...\n",
    "Starting thread(s)...\n",
    "Auto-detecting all available GPUs... Detected 1 GPU(s), using 1 of them starting at GPU 0.\n",
    "OpenPose demo successfully finished. Total time: 500.886680 seconds.\n",
    "PS C:\\Users\\Computing\\Desktop\\openpose> bin\\OpenPoseDemo.exe --video videos/highfallriskgroup/patient_5.MP4 --write_json output_jsons5/ --write_images output_images5/\n",
    "Starting OpenPose demo...\n",
    "Configuring OpenPose...\n",
    "Starting thread(s)...\n",
    "Auto-detecting all available GPUs... Detected 1 GPU(s), using 1 of them starting at GPU 0.\n",
    "OpenPose demo successfully finished. Total time: 205.278019 seconds.\n",
    "PS C:\\Users\\Computing\\Desktop\\openpose> bin\\OpenPoseDemo.exe --video videos/highfallriskgroup/patient_6.MP4 --write_json output_jsons6/ --write_images output_images6/\n",
    "Starting OpenPose demo...\n",
    "Configuring OpenPose...\n",
    "Starting thread(s)...\n",
    "Auto-detecting all available GPUs... Detected 1 GPU(s), using 1 of them starting at GPU 0.\n",
    "OpenPose demo successfully finished. Total time: 480.753948 seconds.\n",
    "PS C:\\Users\\Computing\\Desktop\\openpose> bin\\OpenPoseDemo.exe --video videos/highfallriskgroup/patient_7.MP4 --write_json output_jsons7/ --write_images output_images7/\n",
    "Starting OpenPose demo...\n",
    "Configuring OpenPose...\n",
    "Starting thread(s)...\n",
    "Auto-detecting all available GPUs... Detected 1 GPU(s), using 1 of them starting at GPU 0.\n",
    "OpenPose demo successfully finished. Total time: 373.787544 seconds.\n",
    "PS C:\\Users\\Computing\\Desktop\\openpose> bin\\OpenPoseDemo.exe --video videos/highfallriskgroup/patient_8.MP4 --write_json output_jsons8/ --write_images output_images8/\n",
    "Starting OpenPose demo...\n",
    "Configuring OpenPose...\n",
    "Starting thread(s)...\n",
    "Auto-detecting all available GPUs... Detected 1 GPU(s), using 1 of them starting at GPU 0.\n",
    "OpenPose demo successfully finished. Total time: 409.442830 seconds.\n",
    "PS C:\\Users\\Computing\\Desktop\\openpose> bin\\OpenPoseDemo.exe --video videos/highfallriskgroup/patient_9.MP4 --write_json output_jsons9/ --write_images output_images9/\n",
    "Starting OpenPose demo...\n",
    "Configuring OpenPose...\n",
    "Starting thread(s)...\n",
    "Auto-detecting all available GPUs... Detected 1 GPU(s), using 1 of them starting at GPU 0.\n",
    "OpenPose demo successfully finished. Total time: 286.209099 seconds.\n",
    "PS C:\\Users\\Computing\\Desktop\\openpose> bin\\OpenPoseDemo.exe --video videos/highfallriskgroup/patient_10.MP4 --write_json output_jsons10/ --write_images output_images10/\n",
    "Starting OpenPose demo...\n",
    "Configuring OpenPose...\n",
    "Starting thread(s)...\n",
    "Auto-detecting all available GPUs... Detected 1 GPU(s), using 1 of them starting at GPU 0.\n",
    "OpenPose demo successfully finished. Total time: 748.378347 seconds.\n",
    "PS C:\\Users\\Computing\\Desktop\\openpose> bin\\OpenPoseDemo.exe --video videos/highfallriskgroup/patient_11.MP4 --write_json output_jsons11/ --write_images output_images11/\n",
    "Starting OpenPose demo...\n",
    "Configuring OpenPose...\n",
    "Starting thread(s)...\n",
    "Auto-detecting all available GPUs... Detected 1 GPU(s), using 1 of them starting at GPU 0.\n",
    "OpenPose demo successfully finished. Total time: 408.013593 seconds.\n",
    "PS C:\\Users\\Computing\\Desktop\\openpose> bin\\OpenPoseDemo.exe --video videos/highfallriskgroup/patient_12.MP4 --write_json output_jsons12/ --write_images output_images12/\n",
    "Starting OpenPose demo...\n",
    "Configuring OpenPose...\n",
    "Starting thread(s)...\n",
    "Auto-detecting all available GPUs... Detected 1 GPU(s), using 1 of them starting at GPU 0.\n",
    "OpenPose demo successfully finished. Total time: 181.122433 seconds.\n",
    "PS C:\\Users\\Computing\\Desktop\\openpose> bin\\OpenPoseDemo.exe --video videos/highfallriskgroup/patient_13.MP4 --write_json output_jsons13/ --write_images output_images13/\n",
    "Starting OpenPose demo...\n",
    "Configuring OpenPose...\n",
    "Starting thread(s)...\n",
    "Auto-detecting all available GPUs... Detected 1 GPU(s), using 1 of them starting at GPU 0.\n",
    "OpenPose demo successfully finished. Total time: 184.826756 seconds.\n",
    "PS C:\\Users\\Computing\\Desktop\\openpose> bin\\OpenPoseDemo.exe --video videos/highfallriskgroup/patient_14.MP4 --write_json output_jsons14/ --write_images output_images14/\n",
    "Starting OpenPose demo...\n",
    "Configuring OpenPose...\n",
    "Starting thread(s)...\n",
    "Auto-detecting all available GPUs... Detected 1 GPU(s), using 1 of them starting at GPU 0.\n",
    "OpenPose demo successfully finished. Total time: 297.657888 seconds.\n",
    "PS C:\\Users\\Computing\\Desktop\\openpose> bin\\OpenPoseDemo.exe --video videos/highfallriskgroup/patient_15.MP4 --write_json output_jsons15/ --write_images output_images15/\n",
    "Starting OpenPose demo...\n",
    "Configuring OpenPose...\n",
    "Starting thread(s)...\n",
    "Auto-detecting all available GPUs... Detected 1 GPU(s), using 1 of them starting at GPU 0.\n",
    "OpenPose demo successfully finished. Total time: 246.084297 seconds.\n",
    "PS C:\\Users\\Computing\\Desktop\\openpose> bin\\OpenPoseDemo.exe --video videos/highfallriskgroup/patient_16.MP4 --write_json output_jsons16/ --write_images output_images16/\n",
    "Starting OpenPose demo...\n",
    "Configuring OpenPose...\n",
    "Starting thread(s)...\n",
    "Auto-detecting all available GPUs... Detected 1 GPU(s), using 1 of them starting at GPU 0.\n",
    "OpenPose demo successfully finished. Total time: 194.867479 seconds.\n",
    "PS C:\\Users\\Computing\\Desktop\\openpose> bin\\OpenPoseDemo.exe --video videos/highfallriskgroup/patient_17.MP4 --write_json output_jsons17/ --write_images output_images17/\n",
    "Starting OpenPose demo...\n",
    "Configuring OpenPose...\n",
    "Starting thread(s)...\n",
    "Auto-detecting all available GPUs... Detected 1 GPU(s), using 1 of them starting at GPU 0.\n",
    "OpenPose demo successfully finished. Total time: 238.661010 seconds.\n",
    "PS C:\\Users\\Computing\\Desktop\\openpose> bin\\OpenPoseDemo.exe --video videos/highfallriskgroup/patient_18.MP4 --write_json output_jsons18/ --write_images output_images18/\n",
    "Starting OpenPose demo...\n",
    "Configuring OpenPose...\n",
    "Starting thread(s)...\n",
    "Auto-detecting all available GPUs... Detected 1 GPU(s), using 1 of them starting at GPU 0.\n",
    "OpenPose demo successfully finished. Total time: 172.538193 seconds.\n",
    "PS C:\\Users\\Computing\\Desktop\\openpose> bin\\OpenPoseDemo.exe --video videos/highfallriskgroup/patient_19.MP4 --write_json output_jsons19/ --write_images output_images19/\n",
    "Starting OpenPose demo...\n",
    "Configuring OpenPose...\n",
    "Starting thread(s)...\n",
    "Auto-detecting all available GPUs... Detected 1 GPU(s), using 1 of them starting at GPU 0.\n",
    "OpenPose demo successfully finished. Total time: 357.063873 seconds.\n",
    "PS C:\\Users\\Computing\\Desktop\\openpose> bin\\OpenPoseDemo.exe --video videos/highfallriskgroup/patient_20.MP4 --write_json output_jsons20/ --write_images output_images20/\n",
    "Starting OpenPose demo...\n",
    "Configuring OpenPose...\n",
    "Starting thread(s)...\n",
    "Auto-detecting all available GPUs... Detected 1 GPU(s), using 1 of them starting at GPU 0.\n",
    "OpenPose demo successfully finished. Total time: 162.191287 seconds.\n",
    "PS C:\\Users\\Computing\\Desktop\\openpose> bin\\OpenPoseDemo.exe --video videos/highfallriskgroup/patient_21.MP4 --write_json output_jsons21/ --write_images output_images21/\n",
    "Starting OpenPose demo...\n",
    "Configuring OpenPose...\n",
    "Starting thread(s)...\n",
    "Auto-detecting all available GPUs... Detected 1 GPU(s), using 1 of them starting at GPU 0.\n",
    "OpenPose demo successfully finished. Total time: 353.780610 seconds.\n",
    "PS C:\\Users\\Computing\\Desktop\\openpose> bin\\OpenPoseDemo.exe --video videos/highfallriskgroup/patient_22.MP4 --write_json output_jsons22/ --write_images output_images22/\n",
    "Starting OpenPose demo...\n",
    "Configuring OpenPose...\n",
    "Starting thread(s)...\n",
    "Auto-detecting all available GPUs... Detected 1 GPU(s), using 1 of them starting at GPU 0.\n",
    "OpenPose demo successfully finished. Total time: 231.920169 seconds.\n",
    "PS C:\\Users\\Computing\\Desktop\\openpose> bin\\OpenPoseDemo.exe --video videos/highfallriskgroup/patient_23.MP4 --write_json output_jsons23/ --write_images output_images23/\n",
    "Starting OpenPose demo...\n",
    "Configuring OpenPose...\n",
    "Starting thread(s)...\n",
    "Auto-detecting all available GPUs... Detected 1 GPU(s), using 1 of them starting at GPU 0.\n",
    "OpenPose demo successfully finished. Total time: 171.773203 seconds.\n",
    "PS C:\\Users\\Computing\\Desktop\\openpose> bin\\OpenPoseDemo.exe --video videos/highfallriskgroup/patient_24.MP4 --write_json output_jsons24/ --write_images output_images24/\n",
    "Starting OpenPose demo...\n",
    "Configuring OpenPose...\n",
    "Starting thread(s)...\n",
    "Auto-detecting all available GPUs... Detected 1 GPU(s), using 1 of them starting at GPU 0.\n",
    "OpenPose demo successfully finished. Total time: 336.487025 seconds.\n",
    "PS C:\\Users\\Computing\\Desktop\\openpose> bin\\OpenPoseDemo.exe --video videos/highfallriskgroup/patient_25.MP4 --write_json output_jsons25/ --write_images output_images25/\n",
    "Starting OpenPose demo...\n",
    "Configuring OpenPose...\n",
    "Starting thread(s)...\n",
    "Auto-detecting all available GPUs... Detected 1 GPU(s), using 1 of them starting at GPU 0.\n",
    "OpenPose demo successfully finished. Total time: 280.505477 seconds.\n",
    "PS C:\\Users\\Computing\\Desktop\\openpose> bin\\OpenPoseDemo.exe --video videos/highfallriskgroup/patient_26.MP4 --write_json output_jsons26/ --write_images output_images26/\n",
    "Starting OpenPose demo...\n",
    "Configuring OpenPose...\n",
    "Starting thread(s)...\n",
    "Auto-detecting all available GPUs... Detected 1 GPU(s), using 1 of them starting at GPU 0.\n",
    "OpenPose demo successfully finished. Total time: 169.997583 seconds.\n",
    "PS C:\\Users\\Computing\\Desktop\\openpose> bin\\OpenPoseDemo.exe --video videos/highfallriskgroup/patient_27.MP4 --write_json output_jsons27/ --write_images output_images27/\n",
    "Starting OpenPose demo...\n",
    "Configuring OpenPose...\n",
    "Starting thread(s)...\n",
    "Auto-detecting all available GPUs... Detected 1 GPU(s), using 1 of them starting at GPU 0.\n",
    "OpenPose demo successfully finished. Total time: 170.740998 seconds.\n",
    "PS C:\\Users\\Computing\\Desktop\\openpose> bin\\OpenPoseDemo.exe --video videos/highfallriskgroup/patient_28.MP4 --write_json output_jsons28/ --write_images output_images28/\n",
    "Starting OpenPose demo...\n",
    "Configuring OpenPose...\n",
    "Starting thread(s)...\n",
    "Auto-detecting all available GPUs... Detected 1 GPU(s), using 1 of them starting at GPU 0.\n",
    "OpenPose demo successfully finished. Total time: 162.136751 seconds.\n",
    "PS C:\\Users\\Computing\\Desktop\\openpose> bin\\OpenPoseDemo.exe --video videos/highfallriskgroup/patient_29.MP4 --write_json output_jsons29/ --write_images output_images29/\n",
    "Starting OpenPose demo...\n",
    "Configuring OpenPose...\n",
    "Starting thread(s)...\n",
    "Auto-detecting all available GPUs... Detected 1 GPU(s), using 1 of them starting at GPU 0.\n",
    "OpenPose demo successfully finished. Total time: 242.297282 seconds.\n",
    "PS C:\\Users\\Computing\\Desktop\\openpose> bin\\OpenPoseDemo.exe --video videos/highfallriskgroup/patient_30.MP4 --write_json output_jsons30/ --write_images output_images30/\n",
    "Starting OpenPose demo...\n",
    "Configuring OpenPose...\n",
    "Starting thread(s)...\n",
    "Auto-detecting all available GPUs... Detected 1 GPU(s), using 1 of them starting at GPU 0.\n",
    "OpenPose demo successfully finished. Total time: 249.438771 seconds.\n",
    "PS C:\\Users\\Computing\\Desktop\\openpose> bin\\OpenPoseDemo.exe --video videos/highfallriskgroup/patient_31.MP4 --write_json output_jsons31/ --write_images output_images31/\n",
    "Starting OpenPose demo...\n",
    "Configuring OpenPose...\n",
    "Starting thread(s)...\n",
    "Auto-detecting all available GPUs... Detected 1 GPU(s), using 1 of them starting at GPU 0.\n",
    "OpenPose demo successfully finished. Total time: 227.002715 seconds.\n",
    "PS C:\\Users\\Computing\\Desktop\\openpose> bin\\OpenPoseDemo.exe --video videos/highfallriskgroup/patient_32.MP4 --write_json output_jsons32/ --write_images output_images32/\n",
    "Starting OpenPose demo...\n",
    "Configuring OpenPose...\n",
    "Starting thread(s)...\n",
    "Auto-detecting all available GPUs... Detected 1 GPU(s), using 1 of them starting at GPU 0.\n",
    "OpenPose demo successfully finished. Total time: 233.941017 seconds.\n",
    "PS C:\\Users\\Computing\\Desktop\\openpose> bin\\OpenPoseDemo.exe --video videos/highfallriskgroup/patient_33.MP4 --write_json output_jsons33/ --write_images output_images33/\n",
    "Starting OpenPose demo...\n",
    "Configuring OpenPose...\n",
    "Starting thread(s)...\n",
    "Auto-detecting all available GPUs... Detected 1 GPU(s), using 1 of them starting at GPU 0.\n",
    "OpenPose demo successfully finished. Total time: 236.716506 seconds.\n",
    "PS C:\\Users\\Computing\\Desktop\\openpose> bin\\OpenPoseDemo.exe --video videos/highfallriskgroup/patient_34.MP4 --write_json output_jsons34/ --write_images output_images34/\n",
    "Starting OpenPose demo...\n",
    "Configuring OpenPose...\n",
    "Starting thread(s)...\n",
    "Auto-detecting all available GPUs... Detected 1 GPU(s), using 1 of them starting at GPU 0.\n",
    "OpenPose demo successfully finished. Total time: 269.438741 seconds.\n",
    "PS C:\\Users\\Computing\\Desktop\\openpose> bin\\OpenPoseDemo.exe --video videos/highfallriskgroup/patient_35.MP4 --write_json output_jsons35/ --write_images output_images35/\n",
    "Starting OpenPose demo...\n",
    "Configuring OpenPose...\n",
    "Starting thread(s)...\n",
    "Auto-detecting all available GPUs... Detected 1 GPU(s), using 1 of them starting at GPU 0.\n",
    "OpenPose demo successfully finished. Total time: 304.384863 seconds.\n",
    "PS C:\\Users\\Computing\\Desktop\\openpose> bin\\OpenPoseDemo.exe --video videos/highfallriskgroup/patient_37.MP4 --write_json output_jsons37/ --write_images output_images37/\n",
    "Starting OpenPose demo...\n",
    "Configuring OpenPose...\n",
    "Starting thread(s)...\n",
    "Auto-detecting all available GPUs... Detected 1 GPU(s), using 1 of them starting at GPU 0.\n",
    "OpenPose demo successfully finished. Total time: 289.816932 seconds.\n",
    "PS C:\\Users\\Computing\\Desktop\\openpose> bin\\OpenPoseDemo.exe --video videos/highfallriskgroup/patient_38.MP4 --write_json output_jsons38/ --write_images output_images38/\n",
    "Starting OpenPose demo...\n",
    "Configuring OpenPose...\n",
    "Starting thread(s)...\n",
    "Auto-detecting all available GPUs... Detected 1 GPU(s), using 1 of them starting at GPU 0.\n",
    "OpenPose demo successfully finished. Total time: 197.149792 seconds.\n",
    "PS C:\\Users\\Computing\\Desktop\\openpose> bin\\OpenPoseDemo.exe --video videos/highfallriskgroup/patient_39.MP4 --write_json output_jsons39/ --write_images output_images39/\n",
    "Starting OpenPose demo...\n",
    "Configuring OpenPose...\n",
    "Starting thread(s)...\n",
    "Auto-detecting all available GPUs... Detected 1 GPU(s), using 1 of them starting at GPU 0.\n",
    "OpenPose demo successfully finished. Total time: 390.820520 seconds.\n",
    "PS C:\\Users\\Computing\\Desktop\\openpose> bin\\OpenPoseDemo.exe --video videos/highfallriskgroup/patient_47.MP4 --write_json output_jsons40/ --write_images output_images40/\n",
    "Starting OpenPose demo...\n",
    "Configuring OpenPose...\n",
    "Starting thread(s)...\n",
    "Auto-detecting all available GPUs... Detected 1 GPU(s), using 1 of them starting at GPU 0.\n",
    "OpenPose demo successfully finished. Total time: 217.476011 seconds.\n",
    "PS C:\\Users\\Computing\\Desktop\\openpose> bin\\OpenPoseDemo.exe --video videos/highfallriskgroup/patient_40.MP4 --write_json output_jsons41/ --write_images output_images41/\n",
    "Starting OpenPose demo...\n",
    "Configuring OpenPose...\n",
    "Starting thread(s)...\n",
    "Auto-detecting all available GPUs... Detected 1 GPU(s), using 1 of them starting at GPU 0.\n",
    "OpenPose demo successfully finished. Total time: 202.508570 seconds.\n",
    "PS C:\\Users\\Computing\\Desktop\\openpose> bin\\OpenPoseDemo.exe --video videos/highfallriskgroup/patient_41.MP4 --write_json output_jsons42/ --write_images output_images42/\n",
    "Starting OpenPose demo...\n",
    "Configuring OpenPose...\n",
    "Starting thread(s)...\n",
    "Auto-detecting all available GPUs... Detected 1 GPU(s), using 1 of them starting at GPU 0.\n",
    "OpenPose demo successfully finished. Total time: 395.258260 seconds.\n",
    "PS C:\\Users\\Computing\\Desktop\\openpose> bin\\OpenPoseDemo.exe --video videos/highfallriskgroup/patient_42.MP4 --write_json output_jsons43/ --write_images output_images43/\n",
    "Starting OpenPose demo...\n",
    "Configuring OpenPose...\n",
    "Starting thread(s)...\n",
    "Auto-detecting all available GPUs... Detected 1 GPU(s), using 1 of them starting at GPU 0.\n",
    "OpenPose demo successfully finished. Total time: 215.804185 seconds.\n",
    "PS C:\\Users\\Computing\\Desktop\\openpose> bin\\OpenPoseDemo.exe --video videos/highfallriskgroup/patient_43.MP4 --write_json output_jsons44/ --write_images output_images44/\n",
    "Starting OpenPose demo...\n",
    "Configuring OpenPose...\n",
    "Starting thread(s)...\n",
    "Auto-detecting all available GPUs... Detected 1 GPU(s), using 1 of them starting at GPU 0.\n",
    "OpenPose demo successfully finished. Total time: 226.564726 seconds.\n",
    "PS C:\\Users\\Computing\\Desktop\\openpose> bin\\OpenPoseDemo.exe --video videos/highfallriskgroup/patient_44.MP4 --write_json output_jsons45/ --write_images output_images45/\n",
    "Starting OpenPose demo...\n",
    "Configuring OpenPose...\n",
    "Starting thread(s)...\n",
    "Auto-detecting all available GPUs... Detected 1 GPU(s), using 1 of them starting at GPU 0.\n",
    "OpenPose demo successfully finished. Total time: 299.394534 seconds.\n",
    "PS C:\\Users\\Computing\\Desktop\\openpose> bin\\OpenPoseDemo.exe --video videos/highfallriskgroup/patient_45.MP4 --write_json output_jsons46/ --write_images output_images46/\n",
    "Starting OpenPose demo...\n",
    "Configuring OpenPose...\n",
    "Starting thread(s)...\n",
    "Auto-detecting all available GPUs... Detected 1 GPU(s), using 1 of them starting at GPU 0.\n",
    "OpenPose demo successfully finished. Total time: 278.435969 seconds.\n",
    "PS C:\\Users\\Computing\\Desktop\\openpose> bin\\OpenPoseDemo.exe --video videos/highfallriskgroup/patient_46.MP4 --write_json output_jsons47/ --write_images output_images47/\n",
    "Starting OpenPose demo...\n",
    "Configuring OpenPose...\n",
    "Starting thread(s)...\n",
    "Auto-detecting all available GPUs... Detected 1 GPU(s), using 1 of them starting at GPU 0.\n",
    "OpenPose demo successfully finished. Total time: 179.567434 seconds.\n",
    "PS C:\\Users\\Computing\\Desktop\\openpose> bin\\OpenPoseDemo.exe --video videos/highfallriskgroup/patient_36.MP4 --write_json output_jsons36/ --write_images output_images36/\n",
    "Starting OpenPose demo...\n",
    "Configuring OpenPose...\n",
    "Starting thread(s)...\n",
    "Auto-detecting all available GPUs... Detected 1 GPU(s), using 1 of them starting at GPU 0.\n",
    "OpenPose demo successfully finished. Total time: 340.703851 seconds.\n",
    "PS C:\\Users\\Computing\\Desktop\\openpose>\n"
   ]
  },
  {
   "cell_type": "markdown",
   "id": "a2fddbf6",
   "metadata": {},
   "source": [
    "# Pre-processing: Extracted 25 key points from  2D Pose jsons file and saving as NumPy"
   ]
  },
  {
   "cell_type": "markdown",
   "id": "b3a92e70",
   "metadata": {},
   "source": [
    "The code given below is relevant to the modification and transformation of human pose data with the specific objective of assessing fall risk. The aforementioned procedure entails the transformation of pose key points, which have been taken from JSON files, into the numerical representation of NumPy arrays. The code incorporates many steps"
   ]
  },
  {
   "cell_type": "code",
   "execution_count": null,
   "id": "1a1665c3",
   "metadata": {},
   "outputs": [],
   "source": [
    "import os\n",
    "import json\n",
    "import numpy as np\n",
    "\n",
    "# Define the paths\n",
    "jsons_lowfallriskgroup = \"C:/Users/Computing/Downloads/fall/jsons_lowfallriskgroup\"\n",
    "jsons_highfallriskgroup = \"C:/Users/Computing/Downloads/fall/jsons_highfallriskgroup\"\n",
    "numpy_highfallriskgroup = \"C:/Users/Computing/Downloads/fall/numpy_highfallriskgroup\"\n",
    "numpy_lowfallriskgroup = \"C:/Users/Computing/Downloads/fall/numpy_lowfallriskgroup\"\n",
    "\n",
    "# Function to convert JSON to NumPy\n",
    "def json_to_numpy(json_file):\n",
    "    with open(json_file) as f:\n",
    "        data = json.load(f)\n",
    "    people = data.get('people', [])\n",
    "    if len(people) > 0:\n",
    "        keypoints = people[0]['pose_keypoints_2d']\n",
    "        return np.array(keypoints).reshape(-1, 3)[:, :2]\n",
    "    return None\n",
    "\n",
    "# Convert JSON files in jsons_lowfallriskgroup to NumPy and save in numpy_lowfallriskgroup\n",
    "for folder in os.listdir(jsons_lowfallriskgroup):\n",
    "    folder_path = os.path.join(jsons_lowfallriskgroup, folder)\n",
    "    if os.path.isdir(folder_path):\n",
    "        numpy_folder = os.path.join(numpy_lowfallriskgroup, folder)\n",
    "        os.makedirs(numpy_folder, exist_ok=True)\n",
    "        for file in os.listdir(folder_path):\n",
    "            if file.endswith('.json'):\n",
    "                json_file = os.path.join(folder_path, file)\n",
    "                numpy_file = os.path.join(numpy_folder, file.replace('.json', '.npy'))\n",
    "                keypoints_numpy = json_to_numpy(json_file)\n",
    "                if keypoints_numpy is not None:\n",
    "                    np.save(numpy_file, keypoints_numpy)\n",
    "\n",
    "# Convert JSON files in jsons_highfallriskgroup to NumPy and save in numpy_highfallriskgroup\n",
    "for folder in os.listdir(jsons_highfallriskgroup):\n",
    "    folder_path = os.path.join(jsons_highfallriskgroup, folder)\n",
    "    if os.path.isdir(folder_path):\n",
    "        numpy_folder = os.path.join(numpy_highfallriskgroup, folder)\n",
    "        os.makedirs(numpy_folder, exist_ok=True)\n",
    "        for file in os.listdir(folder_path):\n",
    "            if file.endswith('.json'):\n",
    "                json_file = os.path.join(folder_path, file)\n",
    "                numpy_file = os.path.join(numpy_folder, file.replace('.json', '.npy'))\n",
    "                keypoints_numpy = json_to_numpy(json_file)\n",
    "                if keypoints_numpy is not None:\n",
    "                    np.save(numpy_file, keypoints_numpy)\n",
    "\n",
    "# Print the arrays in numpy_lowfallriskgroup\n",
    "for folder in os.listdir(numpy_lowfallriskgroup):\n",
    "    folder_path = os.path.join(numpy_lowfallriskgroup, folder)\n",
    "    if os.path.isdir(folder_path):\n",
    "        for file in os.listdir(folder_path):\n",
    "            if file.endswith('.npy'):\n",
    "                numpy_file = os.path.join(folder_path, file)\n",
    "                keypoints_numpy = np.load(numpy_file)\n",
    "                print(numpy_file)\n",
    "                print(keypoints_numpy)\n",
    "                print()\n",
    "\n",
    "# Print the arrays in numpy_highfallriskgroup\n",
    "for folder in os.listdir(numpy_highfallriskgroup):\n",
    "    folder_path = os.path.join(numpy_highfallriskgroup, folder)\n",
    "    if os.path.isdir(folder_path):\n",
    "        for file in os.listdir(folder_path):\n",
    "            if file.endswith('.npy'):\n",
    "                numpy_file = os.path.join(folder_path, file)\n",
    "                keypoints_numpy = np.load(numpy_file)\n",
    "                print(numpy_file)\n",
    "                print(keypoints_numpy)\n",
    "                print()"
   ]
  },
  {
   "cell_type": "markdown",
   "id": "36e6386f",
   "metadata": {},
   "source": [
    "# Visualisation of Two 25 Key Points In Low and High Fall Risk In NumPy "
   ]
  },
  {
   "cell_type": "code",
   "execution_count": 2,
   "id": "8d424ed5",
   "metadata": {},
   "outputs": [
    {
     "name": "stdout",
     "output_type": "stream",
     "text": [
      "Data in numpy_highfallriskgroup_data:\n",
      "[[[1804.8    321.328]\n",
      "  [1754.66   383.146]\n",
      "  [1728.26   374.356]\n",
      "  [1686.94   486.184]\n",
      "  [1722.3    589.135]\n",
      "  [1778.32   386.161]\n",
      "  [1775.31   503.711]\n",
      "  [1798.82   580.407]\n",
      "  [1751.85   580.311]\n",
      "  [1731.04   580.376]\n",
      "  [1734.13   721.569]\n",
      "  [1704.65   859.952]\n",
      "  [1775.36   580.274]\n",
      "  [1778.37   721.578]\n",
      "  [1778.32   856.949]\n",
      "  [1798.79   309.475]\n",
      "  [1810.57   312.453]\n",
      "  [1769.42   312.428]\n",
      "  [   0.       0.   ]\n",
      "  [1840.05   886.422]\n",
      "  [1837.09   880.541]\n",
      "  [1769.39   868.809]\n",
      "  [1748.84   883.544]\n",
      "  [1728.28   889.331]\n",
      "  [1689.9    874.683]]]\n",
      "Data in numpy_lowfallriskgroup_data:\n",
      "[[[483.149 221.197]\n",
      "  [397.89  259.555]\n",
      "  [359.538 265.362]\n",
      "  [380.194 391.943]\n",
      "  [459.572 486.155]\n",
      "  [441.997 256.604]\n",
      "  [  0.      0.   ]\n",
      "  [  0.      0.   ]\n",
      "  [409.637 521.439]\n",
      "  [365.512 521.457]\n",
      "  [350.802 700.998]\n",
      "  [324.31  895.23 ]\n",
      "  [453.747 518.515]\n",
      "  [480.081 683.361]\n",
      "  [465.531 874.587]\n",
      "  [474.334 200.613]\n",
      "  [  0.      0.   ]\n",
      "  [418.428 191.801]\n",
      "  [  0.      0.   ]\n",
      "  [565.597 903.965]\n",
      "  [559.7   889.412]\n",
      "  [450.792 901.12 ]\n",
      "  [400.83  927.612]\n",
      "  [377.257 930.709]\n",
      "  [309.522 912.937]]]\n"
     ]
    }
   ],
   "source": [
    "# Print elements of numpy_highfallriskgroup_data and numpy_lowfallriskgroup_data\n",
    "print(\"Data in numpy_highfallriskgroup_data:\")\n",
    "print(numpy_highfallriskgroup_data[27081:27082]) \n",
    "\n",
    "print(\"Data in numpy_lowfallriskgroup_data:\")\n",
    "print(numpy_lowfallriskgroup_data[1000:1001])  "
   ]
  },
  {
   "cell_type": "markdown",
   "id": "828372e6",
   "metadata": {},
   "source": [
    "#  Loading And Organization Of Pose Key Points Data From NumPy Files"
   ]
  },
  {
   "cell_type": "markdown",
   "id": "8f2153e1",
   "metadata": {},
   "source": [
    "The code below is a Python script that performs data loading and preprocessing tasks on NumPy arrays that include pose key points data from two distinct groups, namely \"high fall risk\" and \"low fall risk\". The script utilises the Os and NumPy libraries for file management and numerical calculations. Additionally, it employs the MinMaxScaler and train_test_split functions from the sklearn.preprocessing and sklearn.model_selection modules, respectively. "
   ]
  },
  {
   "cell_type": "code",
   "execution_count": 1,
   "id": "3605fe52",
   "metadata": {},
   "outputs": [
    {
     "name": "stdout",
     "output_type": "stream",
     "text": [
      "Shape of numpy_highfallriskgroup_data: (27082, 25, 2)\n",
      "Shape of numpy_lowfallriskgroup_data: (8487, 25, 2)\n"
     ]
    }
   ],
   "source": [
    "import os\n",
    "import numpy as np\n",
    "from sklearn.preprocessing import MinMaxScaler\n",
    "from sklearn.model_selection import train_test_split\n",
    "\n",
    "# Paths\n",
    "numpy_highfallriskgroup = \"C:/Users/Computing/Downloads/fall/numpy_highfallriskgroup\"\n",
    "numpy_lowfallriskgroup = \"C:/Users/Computing/Downloads/fall/numpy_lowfallriskgroup\"\n",
    "\n",
    "# Function to load numpy files\n",
    "def load_numpy_files(folder_path):\n",
    "    numpy_data = []\n",
    "    for root, dirs, files in os.walk(folder_path):\n",
    "        for file in files:\n",
    "            if file.endswith(\".npy\"):\n",
    "                numpy_path = os.path.join(root, file)\n",
    "                data = np.load(numpy_path)\n",
    "                numpy_data.append(data)\n",
    "    return numpy_data\n",
    "\n",
    "# Load numpy files for high fall risk group\n",
    "numpy_highfallriskgroup_data = load_numpy_files(numpy_highfallriskgroup)\n",
    "\n",
    "# Load numpy files for low fall risk group\n",
    "numpy_lowfallriskgroup_data = load_numpy_files(numpy_lowfallriskgroup)\n",
    "\n",
    "# Convert the lists to NumPy arrays\n",
    "numpy_highfallriskgroup_data = np.array(numpy_highfallriskgroup_data)\n",
    "numpy_lowfallriskgroup_data = np.array(numpy_lowfallriskgroup_data)\n",
    "\n",
    "# Print the shape of numpy_highfallriskgroup_data and numpy_lowfallriskgroup_data\n",
    "print(\"Shape of numpy_highfallriskgroup_data:\", numpy_highfallriskgroup_data.shape)\n",
    "print(\"Shape of numpy_lowfallriskgroup_data:\", numpy_lowfallriskgroup_data.shape)\n"
   ]
  },
  {
   "cell_type": "markdown",
   "id": "64dd1749",
   "metadata": {},
   "source": [
    "# Amalgamation, Normalisation, And Computation of Velocity-Based Feature Vectors   "
   ]
  },
  {
   "cell_type": "markdown",
   "id": "40d3af9f",
   "metadata": {},
   "source": [
    "The code below extends the previous script above and pertains to additional data processing tasks, namely the amalgamation, normalisation, and computation of velocity for posture key points data. The technique entails using the NumPy library for array manipulations and utilising the MinMaxScaler module from the sklearn.preprocessing package. "
   ]
  },
  {
   "cell_type": "code",
   "execution_count": 3,
   "id": "adb771c5",
   "metadata": {},
   "outputs": [
    {
     "name": "stdout",
     "output_type": "stream",
     "text": [
      "Velocity Data:\n",
      "[[[-4.28891836e-02  3.83489210e-02]\n",
      "  [ 1.27292725e-02  3.06366101e-03]\n",
      "  [ 1.52039595e-03  1.11946217e-01]\n",
      "  [ 2.22829662e-02  1.21228328e-01]\n",
      "  [-4.92672985e-02 -2.36293534e-01]\n",
      "  [-1.58024132e-02  1.11847494e-01]\n",
      "  [-9.28573739e-01 -4.98718231e-01]\n",
      "  [ 9.44408501e-01  6.04030493e-01]\n",
      "  [ 1.27184895e-02  4.77340951e-05]\n",
      "  [ 2.06116089e-02  1.75688591e-01]\n",
      "  [-4.44527114e-02  1.72252821e-01]\n",
      "  [-1.60126807e-03 -3.51116815e-01]\n",
      "  [ 4.86311045e-03  1.85157300e-01]\n",
      "  [-7.95781710e-03  1.65937818e-01]\n",
      "  [ 6.98249927e-02 -6.19447521e-01]\n",
      "  [-9.98414906e-01 -3.32550422e-01]\n",
      "  [ 9.82558578e-01  3.16690769e-01]\n",
      "  [-9.82558578e-01 -3.16690769e-01]\n",
      "  [ 9.69861655e-01  9.90316488e-01]\n",
      "  [-2.15659000e-05 -9.42965350e-03]\n",
      "  [-5.24320944e-02 -1.59898370e-02]\n",
      "  [ 5.40818857e-02  2.86914457e-02]\n",
      "  [-8.00094890e-03  6.41155686e-03]\n",
      "  [-4.28568348e-02 -3.51876221e-02]]]\n"
     ]
    }
   ],
   "source": [
    "# Combine data from both groups\n",
    "all_data = np.concatenate((numpy_lowfallriskgroup_data, numpy_highfallriskgroup_data), axis=0)\n",
    "# Normalize the key points to range [0, 1]\n",
    "scaler = MinMaxScaler(feature_range=(0, 1))\n",
    "normalized_data = []\n",
    "for data in all_data:\n",
    "    normalized_data.append(scaler.fit_transform(data))\n",
    "normalized_data = np.array(normalized_data)\n",
    "\n",
    "# Calculate velocity of the key points\n",
    "velocity_data = np.diff(normalized_data, axis=1)\n",
    "\n",
    "# Create feature vectors\n",
    "feature_vectors = velocity_data\n",
    "\n",
    "\n",
    "print(\"Velocity Data:\")\n",
    "print(velocity_data[10000:10001])\n"
   ]
  },
  {
   "cell_type": "markdown",
   "id": "0d88afc6",
   "metadata": {},
   "source": [
    "# Preparing The Feature Vectors And Labels In A Format Suitable For Machine Learning Modelling Into The Distribution of Fall Risk Labels "
   ]
  },
  {
   "cell_type": "markdown",
   "id": "37243e0e",
   "metadata": {},
   "source": [
    "The code below sample further extends the data processing pipeline by include operations such as labelling, reshaping, splitting, and printing of the generated feature vectors and labels. "
   ]
  },
  {
   "cell_type": "code",
   "execution_count": 4,
   "id": "4e15ee39",
   "metadata": {},
   "outputs": [
    {
     "name": "stdout",
     "output_type": "stream",
     "text": [
      "X_train shape: (24898, 48)\n",
      "Y_train shape: (24898,)\n",
      "X_test shape: (10671, 48)\n",
      "Y_test shape: (10671,)\n",
      "X_train data: [[-3.09657105e-01  3.01685952e-02 -8.97986605e-02 ...  6.60683376e-03\n",
      "  -2.59739555e-01 -2.31551521e-02]\n",
      " [ 4.49574801e-02  7.07406945e-02 -2.16814916e-02 ... -6.34314544e-03\n",
      "   5.75057426e-02  6.41981962e-03]\n",
      " [-3.32756309e-01  5.48520006e-02 -2.25666103e-01 ...  3.48425957e-03\n",
      "  -4.07836057e-01 -2.75228501e-02]\n",
      " ...\n",
      " [-6.03159266e-02  4.79405836e-02  9.51586221e-05 ...  3.20688765e-03\n",
      "  -4.95117631e-02 -4.16407201e-02]\n",
      " [ 8.95241236e-01  3.82651850e-01 -1.94835603e-02 ... -9.80444379e-03\n",
      "   4.84186921e-02 -3.91456429e-02]\n",
      " [ 9.39088439e-01  3.07059718e-01 -2.41890056e-03 ... -6.75458492e-03\n",
      "   6.82742967e-02  2.95399910e-04]]\n",
      "Y_train data: [1. 1. 1. ... 1. 0. 1.]\n",
      "X_test data: [[-8.03544417e-02  6.30532658e-02  1.41698627e-02 ...  6.59491156e-03\n",
      "  -6.03439022e-02  6.54301866e-05]\n",
      " [ 8.60627078e-01  4.29797016e-01 -8.60627078e-01 ...  0.00000000e+00\n",
      "   0.00000000e+00  0.00000000e+00]\n",
      " [ 5.07809417e-02  5.21055886e-01 -5.07809417e-02 ... -1.58795257e-02\n",
      "   5.55949365e-01 -4.15551867e-02]\n",
      " ...\n",
      " [ 3.54407891e-02  8.03842933e-02 -4.33938997e-02 ... -7.64306452e-06\n",
      "   1.20027964e-02 -2.56523083e-02]\n",
      " [ 3.92751589e-01  3.13458096e-01  4.36968546e-01 ...  0.00000000e+00\n",
      "   0.00000000e+00  0.00000000e+00]\n",
      " [ 9.25763091e-01  2.61283532e-01  1.68127979e-05 ...  9.31980308e-03\n",
      "  -7.67083904e-02 -2.48123806e-02]]\n",
      "Y_test data: [1. 1. 1. ... 1. 1. 0.]\n"
     ]
    }
   ],
   "source": [
    "# Labelling: Assign labels to feature vectors\n",
    "labels = np.concatenate((np.zeros(len(numpy_lowfallriskgroup_data)), np.ones(len(numpy_highfallriskgroup_data))))\n",
    "\n",
    "# Normalize feature vectors to 3-dimensional arrays\n",
    "feature_vectors = feature_vectors.reshape(feature_vectors.shape[0], -1)\n",
    "\n",
    "# Split the dataset into training and testing subsets\n",
    "X_train, X_test, Y_train, Y_test = train_test_split(feature_vectors, labels, test_size=0.3, random_state=42)\n",
    "\n",
    "# Print the shape and example data\n",
    "print(\"X_train shape:\", X_train.shape)\n",
    "print(\"Y_train shape:\", Y_train.shape)\n",
    "print(\"X_test shape:\", X_test.shape)\n",
    "print(\"Y_test shape:\", Y_test.shape)\n",
    "print(\"X_train data:\", X_train)\n",
    "print(\"Y_train data:\", Y_train)\n",
    "print(\"X_test data:\", X_test)\n",
    "print(\"Y_test data:\", Y_test)\n"
   ]
  },
  {
   "cell_type": "markdown",
   "id": "17ef25ea",
   "metadata": {},
   "source": [
    "# Data Visualization to Provide Insights Into The Distribution of Fall Risk Labels"
   ]
  },
  {
   "cell_type": "markdown",
   "id": "3cedb972",
   "metadata": {},
   "source": [
    "The code below sample supplied demonstrates the use of the matplotlib toolkit for data visualisation. Additionally, it illustrates the integration of both training and testing data. "
   ]
  },
  {
   "cell_type": "code",
   "execution_count": 12,
   "id": "5b4aa38b",
   "metadata": {},
   "outputs": [
    {
     "data": {
      "image/png": "[encoded data removed]",
      "text/plain": [
       "<Figure size 432x288 with 1 Axes>"
      ]
     },
     "metadata": {
      "needs_background": "light"
     },
     "output_type": "display_data"
    },
    {
     "data": {
      "image/png": "[encoded data removed]",
      "text/plain": [
       "<Figure size 432x288 with 1 Axes>"
      ]
     },
     "metadata": {
      "needs_background": "light"
     },
     "output_type": "display_data"
    },
    {
     "name": "stdout",
     "output_type": "stream",
     "text": [
      "Combined shape: (35569, 48)\n"
     ]
    }
   ],
   "source": [
    "import matplotlib.pyplot as plt\n",
    "\n",
    "# Count the occurrences of each label\n",
    "label_counts = np.bincount(labels.astype(int))\n",
    "\n",
    "# Define the labels for plotting\n",
    "label_names = ['Low Fall Risk', 'High Fall Risk']\n",
    "\n",
    "# Create a bar plot\n",
    "plt.bar(label_names, label_counts)\n",
    "plt.xlabel('Labels')\n",
    "plt.ylabel('Count')\n",
    "plt.title('Distribution of Labels')\n",
    "plt.show()\n",
    "\n",
    "import matplotlib.pyplot as plt\n",
    "\n",
    "# Calculate label distribution\n",
    "label_counts = np.bincount(labels.astype(int))\n",
    "unique_labels = np.unique(labels.astype(int))\n",
    "\n",
    "# Plot label distribution\n",
    "plt.bar(unique_labels, label_counts)\n",
    "plt.xlabel(\"Labels\")\n",
    "plt.ylabel(\"Count\")\n",
    "plt.title(\"Label Distribution\")\n",
    "\n",
    "# Add value annotations to each bar\n",
    "for i, count in enumerate(label_counts):\n",
    "    plt.text(unique_labels[i], count, str(count), ha='center', va='bottom')\n",
    "\n",
    "# Show the plot\n",
    "plt.show()\n",
    "\n",
    "# Combine X_train and X_test\n",
    "combined_data1 = np.concatenate((X_train, X_test), axis=0)\n",
    "\n",
    "# Print the combined shape\n",
    "print(\"Combined shape:\", combined_data1.shape)"
   ]
  },
  {
   "cell_type": "markdown",
   "id": "b93351d5",
   "metadata": {},
   "source": [
    "# Addressing Class Imbalance In Training Set"
   ]
  },
  {
   "cell_type": "markdown",
   "id": "42f6f4e7",
   "metadata": {},
   "source": [
    "The code below exemplifies one approach to tackle the issue of class imbalance in the context of machine learning. Resampling strategies are used in order to get a balanced distribution of instances among various classes. The code use the NumPy and scikit-learn modules in Python to perform fast array manipulation and resampling operations. "
   ]
  },
  {
   "cell_type": "code",
   "execution_count": 59,
   "id": "9444de2c",
   "metadata": {},
   "outputs": [
    {
     "name": "stdout",
     "output_type": "stream",
     "text": [
      "Balanced dataset shape - Samples: (11804, 48)\n",
      "Balanced dataset shape - Labels: (11804,)\n"
     ]
    }
   ],
   "source": [
    "import numpy as np\n",
    "from sklearn.utils import resample\n",
    "from sklearn.utils import shuffle\n",
    "\n",
    "# Assuming you have Y_train (labels) and X_train (feature vectors)\n",
    "\n",
    "# Count the occurrences of each class in Y_train\n",
    "unique_classes, class_counts = np.unique(Y_train, return_counts=True)\n",
    "\n",
    "# Find the minority and majority class\n",
    "minority_class = unique_classes[np.argmin(class_counts)]\n",
    "majority_class = unique_classes[np.argmax(class_counts)]\n",
    "\n",
    "# Split the dataset into majority and minority class samples\n",
    "minority_samples = X_train[Y_train == minority_class]\n",
    "majority_samples = X_train[Y_train == majority_class]\n",
    "\n",
    "# Resample instances of the majority class to match the minority count\n",
    "num_samples_to_resample = len(minority_samples)\n",
    "resampled_majority_samples = resample(majority_samples, n_samples=num_samples_to_resample, random_state=42)\n",
    "\n",
    "# Combine the resampled majority class samples with the minority class samples\n",
    "balanced_samples = np.vstack((minority_samples, resampled_majority_samples))\n",
    "balanced_labels = np.concatenate((np.full(len(minority_samples), minority_class), np.full(len(resampled_majority_samples), majority_class)))\n",
    "\n",
    "# Shuffle the balanced dataset\n",
    "balanced_samples, balanced_labels = shuffle(balanced_samples, balanced_labels, random_state=42)\n",
    "\n",
    "# Print the shape of the balanced dataset\n",
    "print(\"Balanced dataset shape - Samples:\", balanced_samples.shape)\n",
    "print(\"Balanced dataset shape - Labels:\", balanced_labels.shape)\n"
   ]
  },
  {
   "cell_type": "markdown",
   "id": "3a73a1cf",
   "metadata": {},
   "source": [
    "# Visualisation of Class Distribution Before And After  Balancing In Training Set"
   ]
  },
  {
   "cell_type": "markdown",
   "id": "ac6d1132",
   "metadata": {},
   "source": [
    "The code below illustrates a visual depiction of the distribution of classes both before to and during the process of balancing. The creation of visualisations to represent the changes in class distribution resulting from the balancing operation is facilitated by the use of the matplotlib module in Python."
   ]
  },
  {
   "cell_type": "code",
   "execution_count": 60,
   "id": "958f6e48",
   "metadata": {},
   "outputs": [
    {
     "data": {
      "image/png": "[encoded data removed]",
      "text/plain": [
       "<Figure size 720x360 with 2 Axes>"
      ]
     },
     "metadata": {
      "needs_background": "light"
     },
     "output_type": "display_data"
    }
   ],
   "source": [
    "import matplotlib.pyplot as plt\n",
    "\n",
    "# Simulated data for demonstration\n",
    "np.random.seed(42)\n",
    "num_minority_samples = 100\n",
    "num_majority_samples = 500\n",
    "\n",
    "# Visualize the class distribution before and after balancing\n",
    "plt.figure(figsize=(10, 5))\n",
    "plt.subplot(1, 2, 1)\n",
    "plt.bar(unique_classes, class_counts)\n",
    "plt.title('Class Distribution of Train Set (Before Balancing)')\n",
    "plt.xlabel('Class')\n",
    "plt.ylabel('Count')\n",
    "\n",
    "balanced_unique_classes, balanced_class_counts = np.unique(balanced_labels, return_counts=True)\n",
    "plt.subplot(1, 2, 2)\n",
    "plt.bar(balanced_unique_classes, balanced_class_counts)\n",
    "plt.title('Class Distribution of Train Set (After Balancing)')\n",
    "plt.xlabel('Class')\n",
    "plt.ylabel('Count')\n",
    "\n",
    "plt.tight_layout()\n",
    "plt.show()"
   ]
  },
  {
   "cell_type": "markdown",
   "id": "a8f0039c",
   "metadata": {},
   "source": [
    "# Addressing Class Imbalance In Test Set"
   ]
  },
  {
   "cell_type": "markdown",
   "id": "62279402",
   "metadata": {},
   "source": [
    "The code below offered solution effectively tackles the issue of imbalanced class distribution in the test set. The code implements a systematic approach to ensure equal representation of classes in the test dataset, relying on the NumPy library and relevant methods from sklearn.utils. The aforementioned procedure is crucial in order to accurately evaluate models, since imbalances have the potential to skew the results of the assessment. "
   ]
  },
  {
   "cell_type": "code",
   "execution_count": 13,
   "id": "900f3564",
   "metadata": {},
   "outputs": [
    {
     "name": "stdout",
     "output_type": "stream",
     "text": [
      "Balanced test dataset shape - Samples: (5170, 48)\n",
      "Balanced test dataset shape - Labels: (5170,)\n"
     ]
    }
   ],
   "source": [
    "import numpy as np\n",
    "from sklearn.utils import resample\n",
    "from sklearn.utils import shuffle\n",
    "\n",
    "# Assuming you have Y_test (labels) and X_test (feature vectors)\n",
    "\n",
    "# Count the occurrences of each class in Y_test\n",
    "unique_classes_test, class_counts_test = np.unique(Y_test, return_counts=True)\n",
    "\n",
    "# Find the minority and majority class in the test set\n",
    "minority_class_test = unique_classes_test[np.argmin(class_counts_test)]\n",
    "majority_class_test = unique_classes_test[np.argmax(class_counts_test)]\n",
    "\n",
    "# Split the test dataset into majority and minority class samples\n",
    "minority_samples_test = X_test[Y_test == minority_class_test]\n",
    "majority_samples_test = X_test[Y_test == majority_class_test]\n",
    "\n",
    "# Resample instances of the majority class to match the minority count\n",
    "num_samples_to_resample_test = len(minority_samples_test)\n",
    "resampled_majority_samples_test = resample(majority_samples_test, n_samples=num_samples_to_resample_test, random_state=42)\n",
    "\n",
    "# Combine the resampled majority class samples with the minority class samples for the test set\n",
    "balanced_samples_test = np.vstack((minority_samples_test, resampled_majority_samples_test))\n",
    "balanced_labels_test = np.concatenate((np.full(len(minority_samples_test), minority_class_test), np.full(len(resampled_majority_samples_test), majority_class_test)))\n",
    "\n",
    "# Shuffle the balanced test dataset\n",
    "balanced_samples_test, balanced_labels_test = shuffle(balanced_samples_test, balanced_labels_test, random_state=42)\n",
    "\n",
    "# Print the shape of the balanced test dataset\n",
    "print(\"Balanced test dataset shape - Samples:\", balanced_samples_test.shape)\n",
    "print(\"Balanced test dataset shape - Labels:\", balanced_labels_test.shape)\n"
   ]
  },
  {
   "cell_type": "markdown",
   "id": "dc722afd",
   "metadata": {},
   "source": [
    "# Visualisation of Class Distribution Before And After  Balancing In Test Set"
   ]
  },
  {
   "cell_type": "markdown",
   "id": "bc559f0b",
   "metadata": {},
   "source": [
    "The code below illustrates the visualisation of the distribution of classes in test dataset, both before and after the use of a balancing strategy. The purpose of this visualisation is to demonstrate the effect of the balancing procedure on the distribution of classes within the dataset. "
   ]
  },
  {
   "cell_type": "code",
   "execution_count": 16,
   "id": "766a55ec",
   "metadata": {},
   "outputs": [
    {
     "data": {
      "image/png": "[encoded data removed]",
      "text/plain": [
       "<Figure size 720x360 with 2 Axes>"
      ]
     },
     "metadata": {
      "needs_background": "light"
     },
     "output_type": "display_data"
    }
   ],
   "source": [
    "import matplotlib.pyplot as plt\n",
    "\n",
    "# Simulated data for demonstration\n",
    "np.random.seed(42)\n",
    "num_minority_samples_test = 50\n",
    "num_majority_samples_test = 200\n",
    "\n",
    "\n",
    "# Visualize the class distribution before and after balancing (test dataset)\n",
    "plt.figure(figsize=(10, 5))\n",
    "\n",
    "plt.subplot(1, 2, 1)\n",
    "plt.bar(unique_classes_test, class_counts_test)\n",
    "plt.title('Class Distribution of Test Set (Before Balancing)')\n",
    "plt.xlabel('Class')\n",
    "plt.ylabel('Count')\n",
    "\n",
    "balanced_unique_classes_test, balanced_class_counts_test = np.unique(balanced_labels_test, return_counts=True)\n",
    "plt.subplot(1, 2, 2)\n",
    "plt.bar(balanced_unique_classes_test, balanced_class_counts_test)\n",
    "plt.title('Class Distribution of Test Set (After Balancing)')\n",
    "plt.xlabel('Class')\n",
    "plt.ylabel('Count')\n",
    "\n",
    "plt.tight_layout()\n",
    "plt.show()\n"
   ]
  },
  {
   "cell_type": "markdown",
   "id": "94b16b10",
   "metadata": {},
   "source": [
    "# Model Evaluation, Selection and Hyperparameter Tweaking"
   ]
  },
  {
   "cell_type": "markdown",
   "id": "7e1c1adc",
   "metadata": {},
   "source": [
    "Performing 10 folds cross validation, tunning hyperparameters, prediction on test set using the best estimator from grid The code below demonstrates the use of several classifiers on a dataset that has been balanced, followed by the assessment of their performance by cross-validation. The hyperparameters of the classifiers are optimised using a grid search technique. It should be noted that inside the script, the variables balanced_samples and balanced_labels are used to denote the training dataset and associated labels subsequent to a balancing procedure.  "
   ]
  },
  {
   "cell_type": "code",
   "execution_count": 20,
   "id": "48786d54",
   "metadata": {},
   "outputs": [
    {
     "name": "stdout",
     "output_type": "stream",
     "text": [
      "Best parameters for SVC: {'C': 10, 'gamma': 10, 'kernel': 'rbf'}\n",
      "Best accuracy score for SVC: 0.8673333429010176\n",
      "Accuracy per fold: [0.86113463 0.86452159 0.87214225 0.86875529 0.88050847 0.86440678\n",
      " 0.86016949 0.88305085 0.86355932 0.85508475]\n",
      "Mean accuracy: 0.8673333429010176\n",
      "F1 Score: 0.8594442207007652\n",
      "Confusion Matrix:\n",
      "[[2338  247]\n",
      " [ 451 2134]]\n",
      "Accuracy on the test set: 0.8649903288201161\n",
      "Specificity (Label 0): 0.9044487427466151\n",
      "Sensitivity (Label 0): 0.825531914893617\n",
      "Specificity (Label 1): 0.825531914893617\n",
      "Sensitivity (Label 1): 0.9044487427466151\n"
     ]
    },
    {
     "data": {
      "image/png": "[encoded data removed]",
      "text/plain": [
       "<Figure size 360x288 with 2 Axes>"
      ]
     },
     "metadata": {
      "needs_background": "light"
     },
     "output_type": "display_data"
    },
    {
     "name": "stdout",
     "output_type": "stream",
     "text": [
      "\n",
      "\n",
      "Best parameters for KNeighborsClassifier: {'n_neighbors': 3, 'weights': 'distance'}\n",
      "Best accuracy score for KNeighborsClassifier: 0.8464914106115187\n",
      "Accuracy per fold: [0.84758679 0.85012701 0.85012701 0.85351397 0.85508475 0.83728814\n",
      " 0.84322034 0.84491525 0.85       0.83305085]\n",
      "Mean accuracy: 0.8464914106115187\n",
      "F1 Score: 0.8415115623237451\n",
      "Confusion Matrix:\n",
      "[[2089  496]\n",
      " [ 347 2238]]\n",
      "Accuracy on the test set: 0.8369439071566731\n",
      "Specificity (Label 0): 0.8081237911025145\n",
      "Sensitivity (Label 0): 0.8657640232108317\n",
      "Specificity (Label 1): 0.8657640232108317\n",
      "Sensitivity (Label 1): 0.8081237911025145\n"
     ]
    },
    {
     "data": {
      "image/png": "[encoded data removed]",
      "text/plain": [
       "<Figure size 360x288 with 2 Axes>"
      ]
     },
     "metadata": {
      "needs_background": "light"
     },
     "output_type": "display_data"
    },
    {
     "name": "stdout",
     "output_type": "stream",
     "text": [
      "\n",
      "\n",
      "Best parameters for RandomForestClassifier: {'max_depth': None, 'n_estimators': 100}\n",
      "Best accuracy score for RandomForestClassifier: 0.9318039868540019\n",
      "Accuracy per fold: [0.92125318 0.9237934  0.93056732 0.93395428 0.93220339 0.92711864\n",
      " 0.93389831 0.9279661  0.94152542 0.92627119]\n",
      "Mean accuracy: 0.9298551213421549\n",
      "F1 Score: 0.9296267496111975\n",
      "Confusion Matrix:\n",
      "[[2417  168]\n",
      " [ 194 2391]]\n",
      "Accuracy on the test set: 0.9299806576402321\n",
      "Specificity (Label 0): 0.935009671179884\n",
      "Sensitivity (Label 0): 0.9249516441005803\n",
      "Specificity (Label 1): 0.9249516441005803\n",
      "Sensitivity (Label 1): 0.935009671179884\n"
     ]
    },
    {
     "data": {
      "image/png": "[encoded data removed]",
      "text/plain": [
       "<Figure size 360x288 with 2 Axes>"
      ]
     },
     "metadata": {
      "needs_background": "light"
     },
     "output_type": "display_data"
    },
    {
     "name": "stdout",
     "output_type": "stream",
     "text": [
      "\n",
      "\n",
      "Best parameters for DecisionTreeClassifier: {'max_depth': None}\n",
      "Best accuracy score for DecisionTreeClassifier: 0.8442904605404784\n",
      "Accuracy per fold: [0.83827265 0.83996613 0.82218459 0.85182049 0.8440678  0.82881356\n",
      " 0.83305085 0.86186441 0.85338983 0.81694915]\n",
      "Mean accuracy: 0.839037945435497\n",
      "F1 Score: 0.8190737833594975\n",
      "Confusion Matrix:\n",
      "[[2161  424]\n",
      " [ 498 2087]]\n",
      "Accuracy on the test set: 0.8216634429400387\n",
      "Specificity (Label 0): 0.8359767891682786\n",
      "Sensitivity (Label 0): 0.8073500967117988\n",
      "Specificity (Label 1): 0.8073500967117988\n",
      "Sensitivity (Label 1): 0.8359767891682786\n"
     ]
    },
    {
     "data": {
      "image/png": "[encoded data removed]",
      "text/plain": [
       "<Figure size 360x288 with 2 Axes>"
      ]
     },
     "metadata": {
      "needs_background": "light"
     },
     "output_type": "display_data"
    },
    {
     "name": "stdout",
     "output_type": "stream",
     "text": [
      "\n",
      "\n",
      "Best parameters for MLPClassifier: {'alpha': 0.0001, 'hidden_layer_sizes': (100, 50)}\n",
      "Best accuracy score for MLPClassifier: 0.8422555576285538\n",
      "Accuracy per fold: [0.85436071 0.82472481 0.83996613 0.82387807 0.85338983 0.80254237\n",
      " 0.82288136 0.85847458 0.82118644 0.82372881]\n",
      "Mean accuracy: 0.8325133110406291\n",
      "F1 Score: 0.8522376543209876\n",
      "Confusion Matrix:\n",
      "[[2195  390]\n",
      " [ 376 2209]]\n",
      "Accuracy on the test set: 0.8518375241779497\n",
      "Specificity (Label 0): 0.8491295938104448\n",
      "Sensitivity (Label 0): 0.8545454545454545\n",
      "Specificity (Label 1): 0.8545454545454545\n",
      "Sensitivity (Label 1): 0.8491295938104448\n"
     ]
    },
    {
     "data": {
      "image/png": "[encoded data removed]",
      "text/plain": [
       "<Figure size 360x288 with 2 Axes>"
      ]
     },
     "metadata": {
      "needs_background": "light"
     },
     "output_type": "display_data"
    },
    {
     "name": "stdout",
     "output_type": "stream",
     "text": [
      "\n",
      "\n"
     ]
    }
   ],
   "source": [
    "import os\n",
    "import numpy as np\n",
    "import seaborn as sns\n",
    "import matplotlib.pyplot as plt\n",
    "from sklearn.preprocessing import MinMaxScaler\n",
    "from sklearn.model_selection import train_test_split, cross_val_score, GridSearchCV\n",
    "from sklearn.svm import SVC\n",
    "from sklearn.neighbors import KNeighborsClassifier\n",
    "from sklearn.ensemble import RandomForestClassifier\n",
    "from sklearn.tree import DecisionTreeClassifier\n",
    "from sklearn.neural_network import MLPClassifier\n",
    "from sklearn.metrics import accuracy_score, f1_score, cohen_kappa_score, confusion_matrix\n",
    "\n",
    "# Define classifiers and their parameter grids\n",
    "classifiers = [\n",
    "    SVC(),\n",
    "    KNeighborsClassifier(),\n",
    "    RandomForestClassifier(),\n",
    "    DecisionTreeClassifier(),\n",
    "    MLPClassifier(max_iter=200, early_stopping=True)\n",
    "]\n",
    "\n",
    "param_grids = [\n",
    "    {'C': [0.1, 1, 10], 'kernel': ['linear', 'rbf'], 'gamma': [0.1, 1, 10]},\n",
    "    {'n_neighbors': [3, 5, 7], 'weights': ['uniform', 'distance']},\n",
    "    {'n_estimators': [50, 100, 200], 'max_depth': [None, 10, 20]},\n",
    "    {'max_depth': [None, 10, 20]},\n",
    "    {'hidden_layer_sizes': [(100,), (100, 50), (30, 30, 30)], 'alpha': [0.0001, 0.001, 0.01]}\n",
    "]\n",
    "\n",
    "# Perform 10-fold cross-validation for each classifier\n",
    "for classifier, params in zip(classifiers, param_grids):\n",
    "    grid_search = GridSearchCV(classifier, params, cv=10, scoring='accuracy')\n",
    "    grid_search.fit(balanced_samples, balanced_labels)\n",
    "    best_params = grid_search.best_params_\n",
    "    best_score = grid_search.best_score_\n",
    "    print(f\"Best parameters for {type(classifier).__name__}: {best_params}\")\n",
    "    print(f\"Best accuracy score for {type(classifier).__name__}: {best_score}\")\n",
    "\n",
    "    # Cross-validation to get accuracy per fold\n",
    "    cv_scores = cross_val_score(grid_search.best_estimator_, balanced_samples, balanced_labels, cv=10)\n",
    "    print(f\"Accuracy per fold: {cv_scores}\")\n",
    "    print(f\"Mean accuracy: {np.mean(cv_scores)}\")\n",
    "\n",
    "    # Get the best_estimator\n",
    "    best_estimator = grid_search.best_estimator_\n",
    "\n",
    "    # Predictions for the test set\n",
    "    Y_pred = best_estimator.predict(balanced_samples_test)\n",
    "\n",
    "    # Calculate additional metrics\n",
    "    f1 = f1_score(balanced_labels_test, Y_pred)\n",
    "    conf_matrix = confusion_matrix(balanced_labels_test, Y_pred)\n",
    "\n",
    "    # Calculate accuracy score\n",
    "    accuracy = accuracy_score(balanced_labels_test, Y_pred)\n",
    "\n",
    "    print(f\"F1 Score: {f1}\")\n",
    "    print(f\"Confusion Matrix:\\n{conf_matrix}\")\n",
    "    print(f\"Accuracy on the test set: {accuracy}\")\n",
    "\n",
    "    # Calculate specificity and sensitivity for each label\n",
    "    tn, fp, fn, tp = conf_matrix.ravel()\n",
    "    specificity_label0 = tn / (tn + fp)\n",
    "    sensitivity_label0 = tp / (tp + fn)\n",
    "    specificity_label1 = tp / (tp + fn)\n",
    "    sensitivity_label1 = tn / (tn + fp)\n",
    "\n",
    "    print(f\"Specificity (Label 0): {specificity_label0}\")\n",
    "    print(f\"Sensitivity (Label 0): {sensitivity_label0}\")\n",
    "    print(f\"Specificity (Label 1): {specificity_label1}\")\n",
    "    print(f\"Sensitivity (Label 1): {sensitivity_label1}\")\n",
    "\n",
    "    # Plot heatmap confusion matrix\n",
    "    class_labels = [0, 1]\n",
    "    plt.figure(figsize=(5, 4))\n",
    "    sns.heatmap(conf_matrix, annot=True, cmap='Blues', fmt='d', xticklabels=class_labels, yticklabels=class_labels)\n",
    "    plt.xlabel('Predicted')\n",
    "    plt.ylabel('True')\n",
    "    plt.title(f'Confusion Matrix for {type(classifier).__name__}')\n",
    "    plt.show()\n",
    "    print(\"\\n\")\n"
   ]
  },
  {
   "cell_type": "markdown",
   "id": "dc9b44bd",
   "metadata": {},
   "source": [
    "# Visualising 10 Folds Cross Validation Mean Accuracy For All Classifiers"
   ]
  },
  {
   "cell_type": "markdown",
   "id": "ce51d7b6",
   "metadata": {},
   "source": [
    "The code snippet below is centred on the creation of a horizontal bar plot that serves the purpose of visually representing the mean accuracy scores for 1o folds cross validation  of several classifiers. These scores are obtained via the execution of a 10-fold cross-validation process."
   ]
  },
  {
   "cell_type": "code",
   "execution_count": 39,
   "id": "7fb7734a",
   "metadata": {},
   "outputs": [
    {
     "data": {
      "image/png": "[encoded data removed]",
      "text/plain": [
       "<Figure size 720x432 with 1 Axes>"
      ]
     },
     "metadata": {
      "needs_background": "light"
     },
     "output_type": "display_data"
    }
   ],
   "source": [
    "import matplotlib.pyplot as plt\n",
    "\n",
    "# Extracted data from output\n",
    "mean_accuracy_scores = [0.8673333429010176, 0.8464914106115187, 0.9298551213421549, 0.839037945435497, 0.8325133110406291]  # Mean Accuracy scores from the output\n",
    "classifier_names = ['SVC', 'KNeighborsClassifier', 'RandomForestClassifier', 'DecisionTreeClassifier', 'MLPClassifier']  # Classifier names from the output\n",
    "\n",
    "# Create a horizontal bar plot\n",
    "plt.figure(figsize=(10, 6))\n",
    "bars = plt.barh(classifier_names, mean_accuracy_scores, color='lightsteelblue')\n",
    "\n",
    "# Add Mean Accuracy text labels inside the bars to two decimal places\n",
    "for bar, mean_accuracy in zip(bars, mean_accuracy_scores):\n",
    "    plt.text(bar.get_width() - 0.01, bar.get_y() + bar.get_height() / 2, f'{mean_accuracy:.2f}', va='center', color='black')\n",
    "\n",
    "plt.xlabel('Mean Accuracy Score')\n",
    "plt.ylabel('Classifier')\n",
    "plt.title('Mean Accuracy Score for 10 folds Cross Validation')\n",
    "plt.xlim(0, 1)  # Set x-axis limits\n",
    "plt.tight_layout()\n",
    "\n",
    "# Show the plot\n",
    "plt.show()\n"
   ]
  },
  {
   "cell_type": "markdown",
   "id": "31295c87",
   "metadata": {},
   "source": [
    "# Visualisation of Accuracy On Test Set For All Classifiers"
   ]
  },
  {
   "cell_type": "markdown",
   "id": "34e0f806",
   "metadata": {},
   "source": [
    "The code snippet below generates a horizontal bar plot that graphically depicts the accuracy attained by several classifiers on test set. "
   ]
  },
  {
   "cell_type": "code",
   "execution_count": 44,
   "id": "622b713c",
   "metadata": {},
   "outputs": [
    {
     "data": {
      "image/png": "[encoded data removed]",
      "text/plain": [
       "<Figure size 720x432 with 1 Axes>"
      ]
     },
     "metadata": {
      "needs_background": "light"
     },
     "output_type": "display_data"
    }
   ],
   "source": [
    "\n",
    "\n",
    "import matplotlib.pyplot as plt\n",
    "\n",
    "# Extracted data from output\n",
    "accuracy_on_test_set = [0.8649903288201161, 0.8369439071566731, 0.9299806576402321, 0.8216634429400387, 0.8518375241779497]  # Accuracy on the test set from the output\n",
    "classifier_names = ['SVC', 'KNeighborsClassifier', 'RandomForestClassifier', 'DecisionTreeClassifier', 'MLPClassifier']  # Classifier names from the output\n",
    "\n",
    "# Create a horizontal bar plot\n",
    "plt.figure(figsize=(10, 6))\n",
    "bars = plt.barh(classifier_names, accuracy_on_test_set, color='lightsalmon')\n",
    "\n",
    "# Add accuracy text labels inside the bars\n",
    "for bar, accuracy in zip(bars, accuracy_on_test_set):\n",
    "    plt.text(bar.get_width() - 0.005, bar.get_y() + bar.get_height() / 2, f'{accuracy:.2f}', va='center', color='black')\n",
    "\n",
    "plt.xlabel('Accuracy on Test Set')\n",
    "plt.ylabel('Classifier')\n",
    "plt.title('Accuracy on Test Set for Different Classifiers')\n",
    "plt.xlim(0, 1)  # Set x-axis limits\n",
    "plt.tight_layout()\n",
    "\n",
    "# Show the plot\n",
    "plt.show()\n"
   ]
  },
  {
   "cell_type": "markdown",
   "id": "f01267c0",
   "metadata": {},
   "source": [
    "# Visualisation of F1 Score On Test Set For All Classifiers"
   ]
  },
  {
   "cell_type": "markdown",
   "id": "62498d25",
   "metadata": {},
   "source": [
    "The code below is snippet produces a horizontal bar plot that is used to visually represent the average F1 scores attained by several classifiers"
   ]
  },
  {
   "cell_type": "code",
   "execution_count": 45,
   "id": "7a415064",
   "metadata": {},
   "outputs": [
    {
     "data": {
      "image/png": "[encoded data removed]",
      "text/plain": [
       "<Figure size 720x432 with 1 Axes>"
      ]
     },
     "metadata": {
      "needs_background": "light"
     },
     "output_type": "display_data"
    }
   ],
   "source": [
    "import matplotlib.pyplot as plt\n",
    "\n",
    "# Mean F1 scores for each classifier\n",
    "mean_f1_scores = [0.8594442207007652, 0.8415115623237451, 0.9296267496111975, 0.8190737833594975, 0.8522376543209876]  # Replace with actual mean F1 scores\n",
    "\n",
    "# Classifier names for the y-axis\n",
    "classifier_names = ['SVC', 'KNeighbors', 'RandomForest', 'DecisionTree', 'MLP']  # Replace with actual classifier names\n",
    "\n",
    "# Create a horizontal bar plot\n",
    "plt.figure(figsize=(10, 6))\n",
    "bars = plt.barh(classifier_names, mean_f1_scores, color='lightseagreen')\n",
    "\n",
    "# Add F1 Score text labels inside the bars\n",
    "for bar, f1_score in zip(bars, mean_f1_scores):\n",
    "    plt.text(bar.get_width() - 0.01, bar.get_y() + bar.get_height() / 2, f'{f1_score:.2f}', va='center', color='black')\n",
    "\n",
    "plt.xlabel('Mean F1 Score')\n",
    "plt.ylabel('Classifier')\n",
    "plt.title('Mean F1 Score of Different Classifiers')\n",
    "plt.xlim(0, 1)  # Set x-axis limits\n",
    "plt.tight_layout()\n",
    "\n",
    "# Show the plot\n",
    "plt.show()\n"
   ]
  },
  {
   "cell_type": "markdown",
   "id": "c68cc2b4",
   "metadata": {},
   "source": [
    "# Visualisation Of Sensitivity And Specificity On Test Set For SVM "
   ]
  },
  {
   "cell_type": "code",
   "execution_count": 49,
   "id": "b8a1080f",
   "metadata": {},
   "outputs": [
    {
     "data": {
      "image/png": "[encoded data removed]",
      "text/plain": [
       "<Figure size 720x432 with 1 Axes>"
      ]
     },
     "metadata": {
      "needs_background": "light"
     },
     "output_type": "display_data"
    }
   ],
   "source": [
    "import matplotlib.pyplot as plt\n",
    "\n",
    "labels = ['Label 0', 'Label 1']\n",
    "specificity_0 = 0.9044487427466151\n",
    "sensitivity_0 = 0.825531914893617\n",
    "specificity_1 = 0.825531914893617\n",
    "sensitivity_1 = 0.9044487427466151\n",
    "\n",
    "specificity_values = [specificity_0, specificity_1]\n",
    "sensitivity_values = [sensitivity_0, sensitivity_1]\n",
    "\n",
    "x = range(len(labels))\n",
    "\n",
    "fig, ax = plt.subplots(figsize=(10, 6))\n",
    "\n",
    "ax.bar(x, specificity_values, width=0.4, label='Specificity')\n",
    "ax.bar([i + 0.4 for i in x], sensitivity_values, width=0.4, label='Sensitivity')\n",
    "\n",
    "ax.set_xticks([i + 0.2 for i in x])\n",
    "ax.set_xticklabels(labels)\n",
    "ax.set_ylabel('Score')\n",
    "ax.set_title('Sensitivity and Specificity for SVM')\n",
    "ax.legend()\n",
    "\n",
    "# Display the values on top of the bars\n",
    "for i, (spec, sens) in enumerate(zip(specificity_values, sensitivity_values)):\n",
    "    ax.text(i, spec + 0.01, f'{spec:.2f}', ha='center')\n",
    "    ax.text(i + 0.4, sens + 0.01, f'{sens:.2f}', ha='center')\n",
    "\n",
    "plt.show()\n",
    "\n"
   ]
  },
  {
   "cell_type": "markdown",
   "id": "b2e9fead",
   "metadata": {},
   "source": [
    "# Visualisation Of Sensitivity And Specificity On Test Set For KNN"
   ]
  },
  {
   "cell_type": "code",
   "execution_count": 50,
   "id": "4f232cfe",
   "metadata": {},
   "outputs": [
    {
     "data": {
      "image/png": "[encoded data removed]",
      "text/plain": [
       "<Figure size 720x432 with 1 Axes>"
      ]
     },
     "metadata": {
      "needs_background": "light"
     },
     "output_type": "display_data"
    }
   ],
   "source": [
    "import matplotlib.pyplot as plt\n",
    "\n",
    "labels = ['Label 0', 'Label 1']\n",
    "specificity_0 = 0.8081237911025145\n",
    "sensitivity_0 = 0.8657640232108317\n",
    "specificity_1 = 0.8657640232108317\n",
    "sensitivity_1 = 0.8081237911025145\n",
    "\n",
    "specificity_values = [specificity_0, specificity_1]\n",
    "sensitivity_values = [sensitivity_0, sensitivity_1]\n",
    "\n",
    "x = range(len(labels))\n",
    "\n",
    "fig, ax = plt.subplots(figsize=(10, 6))\n",
    "\n",
    "ax.bar(x, specificity_values, width=0.4, label='Specificity')\n",
    "ax.bar([i + 0.4 for i in x], sensitivity_values, width=0.4, label='Sensitivity')\n",
    "\n",
    "ax.set_xticks([i + 0.2 for i in x])\n",
    "ax.set_xticklabels(labels)\n",
    "ax.set_ylabel('Score')\n",
    "ax.set_title('Sensitivity and Specificity for KNeighborsClassifier')\n",
    "ax.legend()\n",
    "\n",
    "# Display the values on top of the bars\n",
    "for i, (spec, sens) in enumerate(zip(specificity_values, sensitivity_values)):\n",
    "    ax.text(i, spec + 0.01, f'{spec:.2f}', ha='center')\n",
    "    ax.text(i + 0.4, sens + 0.01, f'{sens:.2f}', ha='center')\n",
    "\n",
    "plt.show()\n"
   ]
  },
  {
   "cell_type": "markdown",
   "id": "77fbce7b",
   "metadata": {},
   "source": [
    "# Visualisation Of Sensitivity And Specificity On Test Set For Random Forest"
   ]
  },
  {
   "cell_type": "code",
   "execution_count": 51,
   "id": "5f1252ba",
   "metadata": {},
   "outputs": [
    {
     "data": {
      "image/png": "[encoded data removed]",
      "text/plain": [
       "<Figure size 720x432 with 1 Axes>"
      ]
     },
     "metadata": {
      "needs_background": "light"
     },
     "output_type": "display_data"
    }
   ],
   "source": [
    "import matplotlib.pyplot as plt\n",
    "\n",
    "labels = ['Label 0', 'Label 1']\n",
    "specificity_0 = 0.935009671179884\n",
    "sensitivity_0 = 0.9249516441005803\n",
    "specificity_1 = 0.9249516441005803\n",
    "sensitivity_1 = 0.935009671179884\n",
    "\n",
    "specificity_values = [specificity_0, specificity_1]\n",
    "sensitivity_values = [sensitivity_0, sensitivity_1]\n",
    "\n",
    "x = range(len(labels))\n",
    "\n",
    "fig, ax = plt.subplots(figsize=(10, 6))\n",
    "\n",
    "ax.bar(x, specificity_values, width=0.4, label='Specificity')\n",
    "ax.bar([i + 0.4 for i in x], sensitivity_values, width=0.4, label='Sensitivity')\n",
    "\n",
    "ax.set_xticks([i + 0.2 for i in x])\n",
    "ax.set_xticklabels(labels)\n",
    "ax.set_ylabel('Score')\n",
    "ax.set_title('Sensitivity and Specificity for RandomForestClassifier')\n",
    "ax.legend()\n",
    "\n",
    "# Display the values on top of the bars\n",
    "for i, (spec, sens) in enumerate(zip(specificity_values, sensitivity_values)):\n",
    "    ax.text(i, spec + 0.01, f'{spec:.2f}', ha='center')\n",
    "    ax.text(i + 0.4, sens + 0.01, f'{sens:.2f}', ha='center')\n",
    "\n",
    "plt.show()\n"
   ]
  },
  {
   "cell_type": "markdown",
   "id": "a82d3239",
   "metadata": {},
   "source": [
    "# Visualisation Of Sensitivity And Specificity On Test Set For Decision Tree"
   ]
  },
  {
   "cell_type": "code",
   "execution_count": 52,
   "id": "fa70306b",
   "metadata": {},
   "outputs": [
    {
     "data": {
      "image/png": "[encoded data removed]",
      "text/plain": [
       "<Figure size 720x432 with 1 Axes>"
      ]
     },
     "metadata": {
      "needs_background": "light"
     },
     "output_type": "display_data"
    }
   ],
   "source": [
    "import matplotlib.pyplot as plt\n",
    "\n",
    "labels = ['Label 0', 'Label 1']\n",
    "specificity_0 = 0.8359767891682786\n",
    "sensitivity_0 = 0.8073500967117988\n",
    "specificity_1 = 0.8073500967117988\n",
    "sensitivity_1 = 0.8359767891682786\n",
    "\n",
    "specificity_values = [specificity_0, specificity_1]\n",
    "sensitivity_values = [sensitivity_0, sensitivity_1]\n",
    "\n",
    "x = range(len(labels))\n",
    "\n",
    "fig, ax = plt.subplots(figsize=(10, 6))\n",
    "\n",
    "ax.bar(x, specificity_values, width=0.4, label='Specificity')\n",
    "ax.bar([i + 0.4 for i in x], sensitivity_values, width=0.4, label='Sensitivity')\n",
    "\n",
    "ax.set_xticks([i + 0.2 for i in x])\n",
    "ax.set_xticklabels(labels)\n",
    "ax.set_ylabel('Score')\n",
    "ax.set_title('Sensitivity and Specificity for DecisionTreeClassifier')\n",
    "ax.legend()\n",
    "\n",
    "# Display the values on top of the bars\n",
    "for i, (spec, sens) in enumerate(zip(specificity_values, sensitivity_values)):\n",
    "    ax.text(i, spec + 0.01, f'{spec:.2f}', ha='center')\n",
    "    ax.text(i + 0.4, sens + 0.01, f'{sens:.2f}', ha='center')\n",
    "\n",
    "plt.show()\n"
   ]
  },
  {
   "cell_type": "markdown",
   "id": "043bcf2b",
   "metadata": {},
   "source": [
    "# Visualisation Of Sensitivity And Specificity On Test Set For MLP Classifier"
   ]
  },
  {
   "cell_type": "code",
   "execution_count": 54,
   "id": "b6ea5347",
   "metadata": {},
   "outputs": [
    {
     "data": {
      "image/png": "[encoded data removed]",
      "text/plain": [
       "<Figure size 720x432 with 1 Axes>"
      ]
     },
     "metadata": {
      "needs_background": "light"
     },
     "output_type": "display_data"
    }
   ],
   "source": [
    "import matplotlib.pyplot as plt\n",
    "\n",
    "labels = ['Label 0', 'Label 1']\n",
    "specificity_0 = 0.8491295938104448\n",
    "sensitivity_0 = 0.8545454545454545\n",
    "specificity_1 = 0.8545454545454545\n",
    "sensitivity_1 = 0.8491295938104448\n",
    "\n",
    "specificity_values = [specificity_0, specificity_1]\n",
    "sensitivity_values = [sensitivity_0, sensitivity_1]\n",
    "\n",
    "x = range(len(labels))\n",
    "\n",
    "fig, ax = plt.subplots(figsize=(10, 6))\n",
    "\n",
    "ax.bar(x, specificity_values, width=0.4, label='Specificity')\n",
    "ax.bar([i + 0.4 for i in x], sensitivity_values, width=0.4, label='Sensitivity')\n",
    "\n",
    "ax.set_xticks([i + 0.2 for i in x])\n",
    "ax.set_xticklabels(labels)\n",
    "ax.set_ylabel('Score')\n",
    "ax.set_title('Sensitivity and Specificity for MLPClassifier')\n",
    "ax.legend()\n",
    "\n",
    "# Display the values on top of the bars\n",
    "for i, (spec, sens) in enumerate(zip(specificity_values, sensitivity_values)):\n",
    "    ax.text(i, spec + 0.01, f'{spec:.2f}', ha='center')\n",
    "    ax.text(i + 0.4, sens + 0.01, f'{sens:.2f}', ha='center')\n",
    "\n",
    "plt.show()\n"
   ]
  }
 ],
 "metadata": {
  "kernelspec": {
   "display_name": "Python 3 (ipykernel)",
   "language": "python",
   "name": "python3"
  },
  "language_info": {
   "codemirror_mode": {
    "name": "ipython",
    "version": 3
   },
   "file_extension": ".py",
   "mimetype": "text/x-python",
   "name": "python",
   "nbconvert_exporter": "python",
   "pygments_lexer": "ipython3",
   "version": "3.10.10"
  }
 },
 "nbformat": 4,
 "nbformat_minor": 5
}
